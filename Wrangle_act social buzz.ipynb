{
 "cells": [
  {
   "cell_type": "markdown",
   "metadata": {},
   "source": [
    "# Data Wrangling Act"
   ]
  },
  {
   "cell_type": "code",
   "execution_count": 1,
   "metadata": {},
   "outputs": [],
   "source": [
    "import numpy as np\n",
    "import pandas as pd\n",
    "import requests\n",
    "import matplotlib.pyplot as plt\n",
    "import seaborn as sb\n",
    "%matplotlib inline"
   ]
  },
  {
   "cell_type": "markdown",
   "metadata": {},
   "source": [
    "## Data Gathering"
   ]
  },
  {
   "cell_type": "code",
   "execution_count": 2,
   "metadata": {},
   "outputs": [],
   "source": [
    "content = pd.read_csv('Content.csv',index_col=0)"
   ]
  },
  {
   "cell_type": "code",
   "execution_count": 3,
   "metadata": {
    "scrolled": true
   },
   "outputs": [
    {
     "data": {
      "text/html": [
       "<div>\n",
       "<style scoped>\n",
       "    .dataframe tbody tr th:only-of-type {\n",
       "        vertical-align: middle;\n",
       "    }\n",
       "\n",
       "    .dataframe tbody tr th {\n",
       "        vertical-align: top;\n",
       "    }\n",
       "\n",
       "    .dataframe thead th {\n",
       "        text-align: right;\n",
       "    }\n",
       "</style>\n",
       "<table border=\"1\" class=\"dataframe\">\n",
       "  <thead>\n",
       "    <tr style=\"text-align: right;\">\n",
       "      <th></th>\n",
       "      <th>Content ID</th>\n",
       "      <th>User ID</th>\n",
       "      <th>Type</th>\n",
       "      <th>Category</th>\n",
       "      <th>URL</th>\n",
       "    </tr>\n",
       "  </thead>\n",
       "  <tbody>\n",
       "    <tr>\n",
       "      <th>0</th>\n",
       "      <td>97522e57-d9ab-4bd6-97bf-c24d952602d2</td>\n",
       "      <td>8d3cd87d-8a31-4935-9a4f-b319bfe05f31</td>\n",
       "      <td>photo</td>\n",
       "      <td>Studying</td>\n",
       "      <td>https://socialbuzz.cdn.com/content/storage/975...</td>\n",
       "    </tr>\n",
       "    <tr>\n",
       "      <th>1</th>\n",
       "      <td>9f737e0a-3cdd-4d29-9d24-753f4e3be810</td>\n",
       "      <td>beb1f34e-7870-46d6-9fc7-2e12eb83ce43</td>\n",
       "      <td>photo</td>\n",
       "      <td>healthy eating</td>\n",
       "      <td>https://socialbuzz.cdn.com/content/storage/9f7...</td>\n",
       "    </tr>\n",
       "    <tr>\n",
       "      <th>2</th>\n",
       "      <td>230c4e4d-70c3-461d-b42c-ec09396efb3f</td>\n",
       "      <td>a5c65404-5894-4b87-82f2-d787cbee86b4</td>\n",
       "      <td>photo</td>\n",
       "      <td>healthy eating</td>\n",
       "      <td>https://socialbuzz.cdn.com/content/storage/230...</td>\n",
       "    </tr>\n",
       "    <tr>\n",
       "      <th>3</th>\n",
       "      <td>356fff80-da4d-4785-9f43-bc1261031dc6</td>\n",
       "      <td>9fb4ce88-fac1-406c-8544-1a899cee7aaf</td>\n",
       "      <td>photo</td>\n",
       "      <td>technology</td>\n",
       "      <td>https://socialbuzz.cdn.com/content/storage/356...</td>\n",
       "    </tr>\n",
       "    <tr>\n",
       "      <th>4</th>\n",
       "      <td>01ab84dd-6364-4236-abbb-3f237db77180</td>\n",
       "      <td>e206e31b-5f85-4964-b6ea-d7ee5324def1</td>\n",
       "      <td>video</td>\n",
       "      <td>food</td>\n",
       "      <td>https://socialbuzz.cdn.com/content/storage/01a...</td>\n",
       "    </tr>\n",
       "  </tbody>\n",
       "</table>\n",
       "</div>"
      ],
      "text/plain": [
       "                             Content ID                               User ID  \\\n",
       "0  97522e57-d9ab-4bd6-97bf-c24d952602d2  8d3cd87d-8a31-4935-9a4f-b319bfe05f31   \n",
       "1  9f737e0a-3cdd-4d29-9d24-753f4e3be810  beb1f34e-7870-46d6-9fc7-2e12eb83ce43   \n",
       "2  230c4e4d-70c3-461d-b42c-ec09396efb3f  a5c65404-5894-4b87-82f2-d787cbee86b4   \n",
       "3  356fff80-da4d-4785-9f43-bc1261031dc6  9fb4ce88-fac1-406c-8544-1a899cee7aaf   \n",
       "4  01ab84dd-6364-4236-abbb-3f237db77180  e206e31b-5f85-4964-b6ea-d7ee5324def1   \n",
       "\n",
       "    Type        Category                                                URL  \n",
       "0  photo        Studying  https://socialbuzz.cdn.com/content/storage/975...  \n",
       "1  photo  healthy eating  https://socialbuzz.cdn.com/content/storage/9f7...  \n",
       "2  photo  healthy eating  https://socialbuzz.cdn.com/content/storage/230...  \n",
       "3  photo      technology  https://socialbuzz.cdn.com/content/storage/356...  \n",
       "4  video            food  https://socialbuzz.cdn.com/content/storage/01a...  "
      ]
     },
     "execution_count": 3,
     "metadata": {},
     "output_type": "execute_result"
    }
   ],
   "source": [
    "content.head()"
   ]
  },
  {
   "cell_type": "code",
   "execution_count": 4,
   "metadata": {},
   "outputs": [],
   "source": [
    "reactions = pd.read_csv('Reactions.csv',index_col=0)"
   ]
  },
  {
   "cell_type": "code",
   "execution_count": 5,
   "metadata": {},
   "outputs": [
    {
     "data": {
      "text/html": [
       "<div>\n",
       "<style scoped>\n",
       "    .dataframe tbody tr th:only-of-type {\n",
       "        vertical-align: middle;\n",
       "    }\n",
       "\n",
       "    .dataframe tbody tr th {\n",
       "        vertical-align: top;\n",
       "    }\n",
       "\n",
       "    .dataframe thead th {\n",
       "        text-align: right;\n",
       "    }\n",
       "</style>\n",
       "<table border=\"1\" class=\"dataframe\">\n",
       "  <thead>\n",
       "    <tr style=\"text-align: right;\">\n",
       "      <th></th>\n",
       "      <th>Content ID</th>\n",
       "      <th>User ID</th>\n",
       "      <th>Type</th>\n",
       "      <th>Datetime</th>\n",
       "    </tr>\n",
       "  </thead>\n",
       "  <tbody>\n",
       "    <tr>\n",
       "      <th>0</th>\n",
       "      <td>97522e57-d9ab-4bd6-97bf-c24d952602d2</td>\n",
       "      <td>NaN</td>\n",
       "      <td>NaN</td>\n",
       "      <td>2021-04-22 15:17:15</td>\n",
       "    </tr>\n",
       "    <tr>\n",
       "      <th>1</th>\n",
       "      <td>97522e57-d9ab-4bd6-97bf-c24d952602d2</td>\n",
       "      <td>5d454588-283d-459d-915d-c48a2cb4c27f</td>\n",
       "      <td>disgust</td>\n",
       "      <td>2020-11-07 09:43:50</td>\n",
       "    </tr>\n",
       "    <tr>\n",
       "      <th>2</th>\n",
       "      <td>97522e57-d9ab-4bd6-97bf-c24d952602d2</td>\n",
       "      <td>92b87fa5-f271-43e0-af66-84fac21052e6</td>\n",
       "      <td>dislike</td>\n",
       "      <td>2021-06-17 12:22:51</td>\n",
       "    </tr>\n",
       "    <tr>\n",
       "      <th>3</th>\n",
       "      <td>97522e57-d9ab-4bd6-97bf-c24d952602d2</td>\n",
       "      <td>163daa38-8b77-48c9-9af6-37a6c1447ac2</td>\n",
       "      <td>scared</td>\n",
       "      <td>2021-04-18 05:13:58</td>\n",
       "    </tr>\n",
       "    <tr>\n",
       "      <th>4</th>\n",
       "      <td>97522e57-d9ab-4bd6-97bf-c24d952602d2</td>\n",
       "      <td>34e8add9-0206-47fd-a501-037b994650a2</td>\n",
       "      <td>disgust</td>\n",
       "      <td>2021-01-06 19:13:01</td>\n",
       "    </tr>\n",
       "  </tbody>\n",
       "</table>\n",
       "</div>"
      ],
      "text/plain": [
       "                             Content ID                               User ID  \\\n",
       "0  97522e57-d9ab-4bd6-97bf-c24d952602d2                                   NaN   \n",
       "1  97522e57-d9ab-4bd6-97bf-c24d952602d2  5d454588-283d-459d-915d-c48a2cb4c27f   \n",
       "2  97522e57-d9ab-4bd6-97bf-c24d952602d2  92b87fa5-f271-43e0-af66-84fac21052e6   \n",
       "3  97522e57-d9ab-4bd6-97bf-c24d952602d2  163daa38-8b77-48c9-9af6-37a6c1447ac2   \n",
       "4  97522e57-d9ab-4bd6-97bf-c24d952602d2  34e8add9-0206-47fd-a501-037b994650a2   \n",
       "\n",
       "      Type             Datetime  \n",
       "0      NaN  2021-04-22 15:17:15  \n",
       "1  disgust  2020-11-07 09:43:50  \n",
       "2  dislike  2021-06-17 12:22:51  \n",
       "3   scared  2021-04-18 05:13:58  \n",
       "4  disgust  2021-01-06 19:13:01  "
      ]
     },
     "execution_count": 5,
     "metadata": {},
     "output_type": "execute_result"
    }
   ],
   "source": [
    "reactions.head()"
   ]
  },
  {
   "cell_type": "code",
   "execution_count": 6,
   "metadata": {},
   "outputs": [],
   "source": [
    "reactiontypes = pd.read_csv('ReactionTypes.csv',index_col=0)"
   ]
  },
  {
   "cell_type": "code",
   "execution_count": 7,
   "metadata": {},
   "outputs": [
    {
     "data": {
      "text/html": [
       "<div>\n",
       "<style scoped>\n",
       "    .dataframe tbody tr th:only-of-type {\n",
       "        vertical-align: middle;\n",
       "    }\n",
       "\n",
       "    .dataframe tbody tr th {\n",
       "        vertical-align: top;\n",
       "    }\n",
       "\n",
       "    .dataframe thead th {\n",
       "        text-align: right;\n",
       "    }\n",
       "</style>\n",
       "<table border=\"1\" class=\"dataframe\">\n",
       "  <thead>\n",
       "    <tr style=\"text-align: right;\">\n",
       "      <th></th>\n",
       "      <th>Type</th>\n",
       "      <th>Sentiment</th>\n",
       "      <th>Score</th>\n",
       "    </tr>\n",
       "  </thead>\n",
       "  <tbody>\n",
       "    <tr>\n",
       "      <th>0</th>\n",
       "      <td>heart</td>\n",
       "      <td>positive</td>\n",
       "      <td>60</td>\n",
       "    </tr>\n",
       "    <tr>\n",
       "      <th>1</th>\n",
       "      <td>want</td>\n",
       "      <td>positive</td>\n",
       "      <td>70</td>\n",
       "    </tr>\n",
       "    <tr>\n",
       "      <th>2</th>\n",
       "      <td>disgust</td>\n",
       "      <td>negative</td>\n",
       "      <td>0</td>\n",
       "    </tr>\n",
       "    <tr>\n",
       "      <th>3</th>\n",
       "      <td>hate</td>\n",
       "      <td>negative</td>\n",
       "      <td>5</td>\n",
       "    </tr>\n",
       "    <tr>\n",
       "      <th>4</th>\n",
       "      <td>interested</td>\n",
       "      <td>positive</td>\n",
       "      <td>30</td>\n",
       "    </tr>\n",
       "  </tbody>\n",
       "</table>\n",
       "</div>"
      ],
      "text/plain": [
       "         Type Sentiment  Score\n",
       "0       heart  positive     60\n",
       "1        want  positive     70\n",
       "2     disgust  negative      0\n",
       "3        hate  negative      5\n",
       "4  interested  positive     30"
      ]
     },
     "execution_count": 7,
     "metadata": {},
     "output_type": "execute_result"
    }
   ],
   "source": [
    "reactiontypes.head()"
   ]
  },
  {
   "cell_type": "markdown",
   "metadata": {},
   "source": [
    "## Data Assessing"
   ]
  },
  {
   "cell_type": "markdown",
   "metadata": {},
   "source": [
    "#### Content table(dataset)"
   ]
  },
  {
   "cell_type": "code",
   "execution_count": 8,
   "metadata": {},
   "outputs": [
    {
     "data": {
      "text/html": [
       "<div>\n",
       "<style scoped>\n",
       "    .dataframe tbody tr th:only-of-type {\n",
       "        vertical-align: middle;\n",
       "    }\n",
       "\n",
       "    .dataframe tbody tr th {\n",
       "        vertical-align: top;\n",
       "    }\n",
       "\n",
       "    .dataframe thead th {\n",
       "        text-align: right;\n",
       "    }\n",
       "</style>\n",
       "<table border=\"1\" class=\"dataframe\">\n",
       "  <thead>\n",
       "    <tr style=\"text-align: right;\">\n",
       "      <th></th>\n",
       "      <th>Content ID</th>\n",
       "      <th>User ID</th>\n",
       "      <th>Type</th>\n",
       "      <th>Category</th>\n",
       "      <th>URL</th>\n",
       "    </tr>\n",
       "  </thead>\n",
       "  <tbody>\n",
       "    <tr>\n",
       "      <th>0</th>\n",
       "      <td>97522e57-d9ab-4bd6-97bf-c24d952602d2</td>\n",
       "      <td>8d3cd87d-8a31-4935-9a4f-b319bfe05f31</td>\n",
       "      <td>photo</td>\n",
       "      <td>Studying</td>\n",
       "      <td>https://socialbuzz.cdn.com/content/storage/975...</td>\n",
       "    </tr>\n",
       "    <tr>\n",
       "      <th>1</th>\n",
       "      <td>9f737e0a-3cdd-4d29-9d24-753f4e3be810</td>\n",
       "      <td>beb1f34e-7870-46d6-9fc7-2e12eb83ce43</td>\n",
       "      <td>photo</td>\n",
       "      <td>healthy eating</td>\n",
       "      <td>https://socialbuzz.cdn.com/content/storage/9f7...</td>\n",
       "    </tr>\n",
       "    <tr>\n",
       "      <th>2</th>\n",
       "      <td>230c4e4d-70c3-461d-b42c-ec09396efb3f</td>\n",
       "      <td>a5c65404-5894-4b87-82f2-d787cbee86b4</td>\n",
       "      <td>photo</td>\n",
       "      <td>healthy eating</td>\n",
       "      <td>https://socialbuzz.cdn.com/content/storage/230...</td>\n",
       "    </tr>\n",
       "    <tr>\n",
       "      <th>3</th>\n",
       "      <td>356fff80-da4d-4785-9f43-bc1261031dc6</td>\n",
       "      <td>9fb4ce88-fac1-406c-8544-1a899cee7aaf</td>\n",
       "      <td>photo</td>\n",
       "      <td>technology</td>\n",
       "      <td>https://socialbuzz.cdn.com/content/storage/356...</td>\n",
       "    </tr>\n",
       "    <tr>\n",
       "      <th>4</th>\n",
       "      <td>01ab84dd-6364-4236-abbb-3f237db77180</td>\n",
       "      <td>e206e31b-5f85-4964-b6ea-d7ee5324def1</td>\n",
       "      <td>video</td>\n",
       "      <td>food</td>\n",
       "      <td>https://socialbuzz.cdn.com/content/storage/01a...</td>\n",
       "    </tr>\n",
       "    <tr>\n",
       "      <th>...</th>\n",
       "      <td>...</td>\n",
       "      <td>...</td>\n",
       "      <td>...</td>\n",
       "      <td>...</td>\n",
       "      <td>...</td>\n",
       "    </tr>\n",
       "    <tr>\n",
       "      <th>995</th>\n",
       "      <td>b4cef9ef-627b-41d7-a051-5961b0204ebb</td>\n",
       "      <td>5b62e10e-3c19-4d28-a57c-e9bdc3d6758d</td>\n",
       "      <td>video</td>\n",
       "      <td>public speaking</td>\n",
       "      <td>https://socialbuzz.cdn.com/content/storage/b4c...</td>\n",
       "    </tr>\n",
       "    <tr>\n",
       "      <th>996</th>\n",
       "      <td>7a79f4e4-3b7d-44dc-bdef-bc990740252c</td>\n",
       "      <td>4fe420fa-a193-4408-bd5d-62a020233609</td>\n",
       "      <td>GIF</td>\n",
       "      <td>technology</td>\n",
       "      <td>https://socialbuzz.cdn.com/content/storage/7a7...</td>\n",
       "    </tr>\n",
       "    <tr>\n",
       "      <th>997</th>\n",
       "      <td>435007a5-6261-4d8b-b0a4-55fdc189754b</td>\n",
       "      <td>35d6a1f3-e358-4d4b-8074-05f3b7f35c2a</td>\n",
       "      <td>audio</td>\n",
       "      <td>veganism</td>\n",
       "      <td>https://socialbuzz.cdn.com/content/storage/435...</td>\n",
       "    </tr>\n",
       "    <tr>\n",
       "      <th>998</th>\n",
       "      <td>4e4c9690-c013-4ee7-9e66-943d8cbd27b7</td>\n",
       "      <td>b9bcd994-f000-4f6b-87fc-caae08acfaa1</td>\n",
       "      <td>GIF</td>\n",
       "      <td>culture</td>\n",
       "      <td>https://socialbuzz.cdn.com/content/storage/4e4...</td>\n",
       "    </tr>\n",
       "    <tr>\n",
       "      <th>999</th>\n",
       "      <td>75d6b589-7fae-4a6d-b0d0-752845150e56</td>\n",
       "      <td>b8c653b5-0118-4d7e-9bde-07c2de90f0ff</td>\n",
       "      <td>audio</td>\n",
       "      <td>technology</td>\n",
       "      <td>https://socialbuzz.cdn.com/content/storage/75d...</td>\n",
       "    </tr>\n",
       "  </tbody>\n",
       "</table>\n",
       "<p>1000 rows × 5 columns</p>\n",
       "</div>"
      ],
      "text/plain": [
       "                               Content ID  \\\n",
       "0    97522e57-d9ab-4bd6-97bf-c24d952602d2   \n",
       "1    9f737e0a-3cdd-4d29-9d24-753f4e3be810   \n",
       "2    230c4e4d-70c3-461d-b42c-ec09396efb3f   \n",
       "3    356fff80-da4d-4785-9f43-bc1261031dc6   \n",
       "4    01ab84dd-6364-4236-abbb-3f237db77180   \n",
       "..                                    ...   \n",
       "995  b4cef9ef-627b-41d7-a051-5961b0204ebb   \n",
       "996  7a79f4e4-3b7d-44dc-bdef-bc990740252c   \n",
       "997  435007a5-6261-4d8b-b0a4-55fdc189754b   \n",
       "998  4e4c9690-c013-4ee7-9e66-943d8cbd27b7   \n",
       "999  75d6b589-7fae-4a6d-b0d0-752845150e56   \n",
       "\n",
       "                                  User ID   Type         Category  \\\n",
       "0    8d3cd87d-8a31-4935-9a4f-b319bfe05f31  photo         Studying   \n",
       "1    beb1f34e-7870-46d6-9fc7-2e12eb83ce43  photo   healthy eating   \n",
       "2    a5c65404-5894-4b87-82f2-d787cbee86b4  photo   healthy eating   \n",
       "3    9fb4ce88-fac1-406c-8544-1a899cee7aaf  photo       technology   \n",
       "4    e206e31b-5f85-4964-b6ea-d7ee5324def1  video             food   \n",
       "..                                    ...    ...              ...   \n",
       "995  5b62e10e-3c19-4d28-a57c-e9bdc3d6758d  video  public speaking   \n",
       "996  4fe420fa-a193-4408-bd5d-62a020233609    GIF       technology   \n",
       "997  35d6a1f3-e358-4d4b-8074-05f3b7f35c2a  audio         veganism   \n",
       "998  b9bcd994-f000-4f6b-87fc-caae08acfaa1    GIF          culture   \n",
       "999  b8c653b5-0118-4d7e-9bde-07c2de90f0ff  audio       technology   \n",
       "\n",
       "                                                   URL  \n",
       "0    https://socialbuzz.cdn.com/content/storage/975...  \n",
       "1    https://socialbuzz.cdn.com/content/storage/9f7...  \n",
       "2    https://socialbuzz.cdn.com/content/storage/230...  \n",
       "3    https://socialbuzz.cdn.com/content/storage/356...  \n",
       "4    https://socialbuzz.cdn.com/content/storage/01a...  \n",
       "..                                                 ...  \n",
       "995  https://socialbuzz.cdn.com/content/storage/b4c...  \n",
       "996  https://socialbuzz.cdn.com/content/storage/7a7...  \n",
       "997  https://socialbuzz.cdn.com/content/storage/435...  \n",
       "998  https://socialbuzz.cdn.com/content/storage/4e4...  \n",
       "999  https://socialbuzz.cdn.com/content/storage/75d...  \n",
       "\n",
       "[1000 rows x 5 columns]"
      ]
     },
     "execution_count": 8,
     "metadata": {},
     "output_type": "execute_result"
    }
   ],
   "source": [
    "content"
   ]
  },
  {
   "cell_type": "code",
   "execution_count": 9,
   "metadata": {},
   "outputs": [
    {
     "name": "stdout",
     "output_type": "stream",
     "text": [
      "<class 'pandas.core.frame.DataFrame'>\n",
      "Int64Index: 1000 entries, 0 to 999\n",
      "Data columns (total 5 columns):\n",
      " #   Column      Non-Null Count  Dtype \n",
      "---  ------      --------------  ----- \n",
      " 0   Content ID  1000 non-null   object\n",
      " 1   User ID     1000 non-null   object\n",
      " 2   Type        1000 non-null   object\n",
      " 3   Category    1000 non-null   object\n",
      " 4   URL         1000 non-null   object\n",
      "dtypes: object(5)\n",
      "memory usage: 46.9+ KB\n"
     ]
    }
   ],
   "source": [
    "# Return a coincise summary of the table- datatypes, non-null values, column names etc.\n",
    "content.info()"
   ]
  },
  {
   "cell_type": "code",
   "execution_count": 10,
   "metadata": {},
   "outputs": [
    {
     "data": {
      "text/html": [
       "<div>\n",
       "<style scoped>\n",
       "    .dataframe tbody tr th:only-of-type {\n",
       "        vertical-align: middle;\n",
       "    }\n",
       "\n",
       "    .dataframe tbody tr th {\n",
       "        vertical-align: top;\n",
       "    }\n",
       "\n",
       "    .dataframe thead th {\n",
       "        text-align: right;\n",
       "    }\n",
       "</style>\n",
       "<table border=\"1\" class=\"dataframe\">\n",
       "  <thead>\n",
       "    <tr style=\"text-align: right;\">\n",
       "      <th></th>\n",
       "      <th>Content ID</th>\n",
       "      <th>User ID</th>\n",
       "      <th>Type</th>\n",
       "      <th>Category</th>\n",
       "      <th>URL</th>\n",
       "    </tr>\n",
       "  </thead>\n",
       "  <tbody>\n",
       "    <tr>\n",
       "      <th>0</th>\n",
       "      <td>False</td>\n",
       "      <td>False</td>\n",
       "      <td>False</td>\n",
       "      <td>False</td>\n",
       "      <td>False</td>\n",
       "    </tr>\n",
       "    <tr>\n",
       "      <th>1</th>\n",
       "      <td>False</td>\n",
       "      <td>False</td>\n",
       "      <td>False</td>\n",
       "      <td>False</td>\n",
       "      <td>False</td>\n",
       "    </tr>\n",
       "    <tr>\n",
       "      <th>2</th>\n",
       "      <td>False</td>\n",
       "      <td>False</td>\n",
       "      <td>False</td>\n",
       "      <td>False</td>\n",
       "      <td>False</td>\n",
       "    </tr>\n",
       "    <tr>\n",
       "      <th>3</th>\n",
       "      <td>False</td>\n",
       "      <td>False</td>\n",
       "      <td>False</td>\n",
       "      <td>False</td>\n",
       "      <td>False</td>\n",
       "    </tr>\n",
       "    <tr>\n",
       "      <th>4</th>\n",
       "      <td>False</td>\n",
       "      <td>False</td>\n",
       "      <td>False</td>\n",
       "      <td>False</td>\n",
       "      <td>False</td>\n",
       "    </tr>\n",
       "    <tr>\n",
       "      <th>...</th>\n",
       "      <td>...</td>\n",
       "      <td>...</td>\n",
       "      <td>...</td>\n",
       "      <td>...</td>\n",
       "      <td>...</td>\n",
       "    </tr>\n",
       "    <tr>\n",
       "      <th>995</th>\n",
       "      <td>False</td>\n",
       "      <td>False</td>\n",
       "      <td>False</td>\n",
       "      <td>False</td>\n",
       "      <td>False</td>\n",
       "    </tr>\n",
       "    <tr>\n",
       "      <th>996</th>\n",
       "      <td>False</td>\n",
       "      <td>False</td>\n",
       "      <td>False</td>\n",
       "      <td>False</td>\n",
       "      <td>False</td>\n",
       "    </tr>\n",
       "    <tr>\n",
       "      <th>997</th>\n",
       "      <td>False</td>\n",
       "      <td>False</td>\n",
       "      <td>False</td>\n",
       "      <td>False</td>\n",
       "      <td>False</td>\n",
       "    </tr>\n",
       "    <tr>\n",
       "      <th>998</th>\n",
       "      <td>False</td>\n",
       "      <td>False</td>\n",
       "      <td>False</td>\n",
       "      <td>False</td>\n",
       "      <td>False</td>\n",
       "    </tr>\n",
       "    <tr>\n",
       "      <th>999</th>\n",
       "      <td>False</td>\n",
       "      <td>False</td>\n",
       "      <td>False</td>\n",
       "      <td>False</td>\n",
       "      <td>False</td>\n",
       "    </tr>\n",
       "  </tbody>\n",
       "</table>\n",
       "<p>1000 rows × 5 columns</p>\n",
       "</div>"
      ],
      "text/plain": [
       "     Content ID  User ID   Type  Category    URL\n",
       "0         False    False  False     False  False\n",
       "1         False    False  False     False  False\n",
       "2         False    False  False     False  False\n",
       "3         False    False  False     False  False\n",
       "4         False    False  False     False  False\n",
       "..          ...      ...    ...       ...    ...\n",
       "995       False    False  False     False  False\n",
       "996       False    False  False     False  False\n",
       "997       False    False  False     False  False\n",
       "998       False    False  False     False  False\n",
       "999       False    False  False     False  False\n",
       "\n",
       "[1000 rows x 5 columns]"
      ]
     },
     "execution_count": 10,
     "metadata": {},
     "output_type": "execute_result"
    }
   ],
   "source": [
    "# checks for missing entries\n",
    "content.isna()"
   ]
  },
  {
   "cell_type": "code",
   "execution_count": 11,
   "metadata": {},
   "outputs": [
    {
     "data": {
      "text/plain": [
       "Content ID    1000\n",
       "User ID        446\n",
       "Type             4\n",
       "Category        41\n",
       "URL           1000\n",
       "dtype: int64"
      ]
     },
     "execution_count": 11,
     "metadata": {},
     "output_type": "execute_result"
    }
   ],
   "source": [
    "content.nunique()"
   ]
  },
  {
   "cell_type": "code",
   "execution_count": 13,
   "metadata": {},
   "outputs": [
    {
     "data": {
      "text/plain": [
       "0"
      ]
     },
     "execution_count": 13,
     "metadata": {},
     "output_type": "execute_result"
    }
   ],
   "source": [
    "# checks for duplicates\n",
    "sum(content.duplicated())"
   ]
  },
  {
   "cell_type": "markdown",
   "metadata": {},
   "source": [
    "#### Reactions table dataset"
   ]
  },
  {
   "cell_type": "code",
   "execution_count": 14,
   "metadata": {},
   "outputs": [
    {
     "data": {
      "text/html": [
       "<div>\n",
       "<style scoped>\n",
       "    .dataframe tbody tr th:only-of-type {\n",
       "        vertical-align: middle;\n",
       "    }\n",
       "\n",
       "    .dataframe tbody tr th {\n",
       "        vertical-align: top;\n",
       "    }\n",
       "\n",
       "    .dataframe thead th {\n",
       "        text-align: right;\n",
       "    }\n",
       "</style>\n",
       "<table border=\"1\" class=\"dataframe\">\n",
       "  <thead>\n",
       "    <tr style=\"text-align: right;\">\n",
       "      <th></th>\n",
       "      <th>Content ID</th>\n",
       "      <th>User ID</th>\n",
       "      <th>Type</th>\n",
       "      <th>Datetime</th>\n",
       "    </tr>\n",
       "  </thead>\n",
       "  <tbody>\n",
       "    <tr>\n",
       "      <th>0</th>\n",
       "      <td>97522e57-d9ab-4bd6-97bf-c24d952602d2</td>\n",
       "      <td>NaN</td>\n",
       "      <td>NaN</td>\n",
       "      <td>2021-04-22 15:17:15</td>\n",
       "    </tr>\n",
       "    <tr>\n",
       "      <th>1</th>\n",
       "      <td>97522e57-d9ab-4bd6-97bf-c24d952602d2</td>\n",
       "      <td>5d454588-283d-459d-915d-c48a2cb4c27f</td>\n",
       "      <td>disgust</td>\n",
       "      <td>2020-11-07 09:43:50</td>\n",
       "    </tr>\n",
       "    <tr>\n",
       "      <th>2</th>\n",
       "      <td>97522e57-d9ab-4bd6-97bf-c24d952602d2</td>\n",
       "      <td>92b87fa5-f271-43e0-af66-84fac21052e6</td>\n",
       "      <td>dislike</td>\n",
       "      <td>2021-06-17 12:22:51</td>\n",
       "    </tr>\n",
       "    <tr>\n",
       "      <th>3</th>\n",
       "      <td>97522e57-d9ab-4bd6-97bf-c24d952602d2</td>\n",
       "      <td>163daa38-8b77-48c9-9af6-37a6c1447ac2</td>\n",
       "      <td>scared</td>\n",
       "      <td>2021-04-18 05:13:58</td>\n",
       "    </tr>\n",
       "    <tr>\n",
       "      <th>4</th>\n",
       "      <td>97522e57-d9ab-4bd6-97bf-c24d952602d2</td>\n",
       "      <td>34e8add9-0206-47fd-a501-037b994650a2</td>\n",
       "      <td>disgust</td>\n",
       "      <td>2021-01-06 19:13:01</td>\n",
       "    </tr>\n",
       "    <tr>\n",
       "      <th>...</th>\n",
       "      <td>...</td>\n",
       "      <td>...</td>\n",
       "      <td>...</td>\n",
       "      <td>...</td>\n",
       "    </tr>\n",
       "    <tr>\n",
       "      <th>25548</th>\n",
       "      <td>75d6b589-7fae-4a6d-b0d0-752845150e56</td>\n",
       "      <td>80c9ce48-46f9-4f5e-b3ca-3b698fc2e949</td>\n",
       "      <td>dislike</td>\n",
       "      <td>2020-06-27 09:46:48</td>\n",
       "    </tr>\n",
       "    <tr>\n",
       "      <th>25549</th>\n",
       "      <td>75d6b589-7fae-4a6d-b0d0-752845150e56</td>\n",
       "      <td>2bd9c167-e06c-47c1-a978-3403d6724606</td>\n",
       "      <td>intrigued</td>\n",
       "      <td>2021-02-16 17:17:02</td>\n",
       "    </tr>\n",
       "    <tr>\n",
       "      <th>25550</th>\n",
       "      <td>75d6b589-7fae-4a6d-b0d0-752845150e56</td>\n",
       "      <td>NaN</td>\n",
       "      <td>interested</td>\n",
       "      <td>2020-09-12 03:54:58</td>\n",
       "    </tr>\n",
       "    <tr>\n",
       "      <th>25551</th>\n",
       "      <td>75d6b589-7fae-4a6d-b0d0-752845150e56</td>\n",
       "      <td>5ffd8b51-164e-47e2-885e-8b8c46eb63ed</td>\n",
       "      <td>worried</td>\n",
       "      <td>2020-11-04 20:08:31</td>\n",
       "    </tr>\n",
       "    <tr>\n",
       "      <th>25552</th>\n",
       "      <td>75d6b589-7fae-4a6d-b0d0-752845150e56</td>\n",
       "      <td>4edc3d1a-a7d9-4db6-89c3-f784d9954172</td>\n",
       "      <td>cherish</td>\n",
       "      <td>2021-01-04 04:55:11</td>\n",
       "    </tr>\n",
       "  </tbody>\n",
       "</table>\n",
       "<p>25553 rows × 4 columns</p>\n",
       "</div>"
      ],
      "text/plain": [
       "                                 Content ID  \\\n",
       "0      97522e57-d9ab-4bd6-97bf-c24d952602d2   \n",
       "1      97522e57-d9ab-4bd6-97bf-c24d952602d2   \n",
       "2      97522e57-d9ab-4bd6-97bf-c24d952602d2   \n",
       "3      97522e57-d9ab-4bd6-97bf-c24d952602d2   \n",
       "4      97522e57-d9ab-4bd6-97bf-c24d952602d2   \n",
       "...                                     ...   \n",
       "25548  75d6b589-7fae-4a6d-b0d0-752845150e56   \n",
       "25549  75d6b589-7fae-4a6d-b0d0-752845150e56   \n",
       "25550  75d6b589-7fae-4a6d-b0d0-752845150e56   \n",
       "25551  75d6b589-7fae-4a6d-b0d0-752845150e56   \n",
       "25552  75d6b589-7fae-4a6d-b0d0-752845150e56   \n",
       "\n",
       "                                    User ID        Type             Datetime  \n",
       "0                                       NaN         NaN  2021-04-22 15:17:15  \n",
       "1      5d454588-283d-459d-915d-c48a2cb4c27f     disgust  2020-11-07 09:43:50  \n",
       "2      92b87fa5-f271-43e0-af66-84fac21052e6     dislike  2021-06-17 12:22:51  \n",
       "3      163daa38-8b77-48c9-9af6-37a6c1447ac2      scared  2021-04-18 05:13:58  \n",
       "4      34e8add9-0206-47fd-a501-037b994650a2     disgust  2021-01-06 19:13:01  \n",
       "...                                     ...         ...                  ...  \n",
       "25548  80c9ce48-46f9-4f5e-b3ca-3b698fc2e949     dislike  2020-06-27 09:46:48  \n",
       "25549  2bd9c167-e06c-47c1-a978-3403d6724606   intrigued  2021-02-16 17:17:02  \n",
       "25550                                   NaN  interested  2020-09-12 03:54:58  \n",
       "25551  5ffd8b51-164e-47e2-885e-8b8c46eb63ed     worried  2020-11-04 20:08:31  \n",
       "25552  4edc3d1a-a7d9-4db6-89c3-f784d9954172     cherish  2021-01-04 04:55:11  \n",
       "\n",
       "[25553 rows x 4 columns]"
      ]
     },
     "execution_count": 14,
     "metadata": {},
     "output_type": "execute_result"
    }
   ],
   "source": [
    "reactions"
   ]
  },
  {
   "cell_type": "code",
   "execution_count": 15,
   "metadata": {
    "scrolled": true
   },
   "outputs": [
    {
     "data": {
      "text/html": [
       "<div>\n",
       "<style scoped>\n",
       "    .dataframe tbody tr th:only-of-type {\n",
       "        vertical-align: middle;\n",
       "    }\n",
       "\n",
       "    .dataframe tbody tr th {\n",
       "        vertical-align: top;\n",
       "    }\n",
       "\n",
       "    .dataframe thead th {\n",
       "        text-align: right;\n",
       "    }\n",
       "</style>\n",
       "<table border=\"1\" class=\"dataframe\">\n",
       "  <thead>\n",
       "    <tr style=\"text-align: right;\">\n",
       "      <th></th>\n",
       "      <th>Content ID</th>\n",
       "      <th>User ID</th>\n",
       "      <th>Type</th>\n",
       "      <th>Datetime</th>\n",
       "    </tr>\n",
       "  </thead>\n",
       "  <tbody>\n",
       "    <tr>\n",
       "      <th>0</th>\n",
       "      <td>97522e57-d9ab-4bd6-97bf-c24d952602d2</td>\n",
       "      <td>NaN</td>\n",
       "      <td>NaN</td>\n",
       "      <td>2021-04-22 15:17:15</td>\n",
       "    </tr>\n",
       "    <tr>\n",
       "      <th>1</th>\n",
       "      <td>97522e57-d9ab-4bd6-97bf-c24d952602d2</td>\n",
       "      <td>5d454588-283d-459d-915d-c48a2cb4c27f</td>\n",
       "      <td>disgust</td>\n",
       "      <td>2020-11-07 09:43:50</td>\n",
       "    </tr>\n",
       "    <tr>\n",
       "      <th>2</th>\n",
       "      <td>97522e57-d9ab-4bd6-97bf-c24d952602d2</td>\n",
       "      <td>92b87fa5-f271-43e0-af66-84fac21052e6</td>\n",
       "      <td>dislike</td>\n",
       "      <td>2021-06-17 12:22:51</td>\n",
       "    </tr>\n",
       "    <tr>\n",
       "      <th>3</th>\n",
       "      <td>97522e57-d9ab-4bd6-97bf-c24d952602d2</td>\n",
       "      <td>163daa38-8b77-48c9-9af6-37a6c1447ac2</td>\n",
       "      <td>scared</td>\n",
       "      <td>2021-04-18 05:13:58</td>\n",
       "    </tr>\n",
       "    <tr>\n",
       "      <th>4</th>\n",
       "      <td>97522e57-d9ab-4bd6-97bf-c24d952602d2</td>\n",
       "      <td>34e8add9-0206-47fd-a501-037b994650a2</td>\n",
       "      <td>disgust</td>\n",
       "      <td>2021-01-06 19:13:01</td>\n",
       "    </tr>\n",
       "    <tr>\n",
       "      <th>5</th>\n",
       "      <td>97522e57-d9ab-4bd6-97bf-c24d952602d2</td>\n",
       "      <td>9b6d35f9-5e15-4cd0-a8d7-b1f3340e02c4</td>\n",
       "      <td>interested</td>\n",
       "      <td>2020-08-23 12:25:58</td>\n",
       "    </tr>\n",
       "    <tr>\n",
       "      <th>6</th>\n",
       "      <td>97522e57-d9ab-4bd6-97bf-c24d952602d2</td>\n",
       "      <td>7918d465-0953-4f20-9e28-539e74c82e2f</td>\n",
       "      <td>peeking</td>\n",
       "      <td>2020-12-07 06:27:54</td>\n",
       "    </tr>\n",
       "    <tr>\n",
       "      <th>7</th>\n",
       "      <td>97522e57-d9ab-4bd6-97bf-c24d952602d2</td>\n",
       "      <td>fa3e42f0-71d8-455f-b024-e52d5c27a145</td>\n",
       "      <td>cherish</td>\n",
       "      <td>2021-04-11 17:35:49</td>\n",
       "    </tr>\n",
       "    <tr>\n",
       "      <th>8</th>\n",
       "      <td>97522e57-d9ab-4bd6-97bf-c24d952602d2</td>\n",
       "      <td>b0c22f82-b882-4394-bf27-6dfadf26e5c2</td>\n",
       "      <td>hate</td>\n",
       "      <td>2021-01-27 08:32:09</td>\n",
       "    </tr>\n",
       "    <tr>\n",
       "      <th>9</th>\n",
       "      <td>97522e57-d9ab-4bd6-97bf-c24d952602d2</td>\n",
       "      <td>1932a904-86ba-4438-bb52-b7e6516a4019</td>\n",
       "      <td>peeking</td>\n",
       "      <td>2021-04-01 22:54:23</td>\n",
       "    </tr>\n",
       "  </tbody>\n",
       "</table>\n",
       "</div>"
      ],
      "text/plain": [
       "                             Content ID                               User ID  \\\n",
       "0  97522e57-d9ab-4bd6-97bf-c24d952602d2                                   NaN   \n",
       "1  97522e57-d9ab-4bd6-97bf-c24d952602d2  5d454588-283d-459d-915d-c48a2cb4c27f   \n",
       "2  97522e57-d9ab-4bd6-97bf-c24d952602d2  92b87fa5-f271-43e0-af66-84fac21052e6   \n",
       "3  97522e57-d9ab-4bd6-97bf-c24d952602d2  163daa38-8b77-48c9-9af6-37a6c1447ac2   \n",
       "4  97522e57-d9ab-4bd6-97bf-c24d952602d2  34e8add9-0206-47fd-a501-037b994650a2   \n",
       "5  97522e57-d9ab-4bd6-97bf-c24d952602d2  9b6d35f9-5e15-4cd0-a8d7-b1f3340e02c4   \n",
       "6  97522e57-d9ab-4bd6-97bf-c24d952602d2  7918d465-0953-4f20-9e28-539e74c82e2f   \n",
       "7  97522e57-d9ab-4bd6-97bf-c24d952602d2  fa3e42f0-71d8-455f-b024-e52d5c27a145   \n",
       "8  97522e57-d9ab-4bd6-97bf-c24d952602d2  b0c22f82-b882-4394-bf27-6dfadf26e5c2   \n",
       "9  97522e57-d9ab-4bd6-97bf-c24d952602d2  1932a904-86ba-4438-bb52-b7e6516a4019   \n",
       "\n",
       "         Type             Datetime  \n",
       "0         NaN  2021-04-22 15:17:15  \n",
       "1     disgust  2020-11-07 09:43:50  \n",
       "2     dislike  2021-06-17 12:22:51  \n",
       "3      scared  2021-04-18 05:13:58  \n",
       "4     disgust  2021-01-06 19:13:01  \n",
       "5  interested  2020-08-23 12:25:58  \n",
       "6     peeking  2020-12-07 06:27:54  \n",
       "7     cherish  2021-04-11 17:35:49  \n",
       "8        hate  2021-01-27 08:32:09  \n",
       "9     peeking  2021-04-01 22:54:23  "
      ]
     },
     "execution_count": 15,
     "metadata": {},
     "output_type": "execute_result"
    }
   ],
   "source": [
    "reactions.head(10)"
   ]
  },
  {
   "cell_type": "code",
   "execution_count": 16,
   "metadata": {},
   "outputs": [
    {
     "name": "stdout",
     "output_type": "stream",
     "text": [
      "<class 'pandas.core.frame.DataFrame'>\n",
      "Int64Index: 25553 entries, 0 to 25552\n",
      "Data columns (total 4 columns):\n",
      " #   Column      Non-Null Count  Dtype \n",
      "---  ------      --------------  ----- \n",
      " 0   Content ID  25553 non-null  object\n",
      " 1   User ID     22534 non-null  object\n",
      " 2   Type        24573 non-null  object\n",
      " 3   Datetime    25553 non-null  object\n",
      "dtypes: object(4)\n",
      "memory usage: 998.2+ KB\n"
     ]
    }
   ],
   "source": [
    "# Return a coincise summary of the table- datatypes, non-null values, column names etc.\n",
    "reactions.info()"
   ]
  },
  {
   "cell_type": "code",
   "execution_count": 17,
   "metadata": {},
   "outputs": [
    {
     "data": {
      "text/plain": [
       "3019"
      ]
     },
     "execution_count": 17,
     "metadata": {},
     "output_type": "execute_result"
    }
   ],
   "source": [
    "# checks for number of null entries\n",
    "len(reactions[reactions['User ID'].isna()])"
   ]
  },
  {
   "cell_type": "code",
   "execution_count": 18,
   "metadata": {},
   "outputs": [
    {
     "data": {
      "text/plain": [
       "980"
      ]
     },
     "execution_count": 18,
     "metadata": {},
     "output_type": "execute_result"
    }
   ],
   "source": [
    "# checks for number of null entries\n",
    "len(reactions[reactions['Type'].isna()])"
   ]
  },
  {
   "cell_type": "code",
   "execution_count": 19,
   "metadata": {},
   "outputs": [
    {
     "data": {
      "text/plain": [
       "heart          1622\n",
       "scared         1572\n",
       "peeking        1559\n",
       "hate           1552\n",
       "interested     1549\n",
       "dislike        1548\n",
       "adore          1548\n",
       "want           1539\n",
       "love           1534\n",
       "disgust        1526\n",
       "like           1520\n",
       "super love     1519\n",
       "indifferent    1512\n",
       "cherish        1501\n",
       "worried        1497\n",
       "intrigued      1475\n",
       "Name: Type, dtype: int64"
      ]
     },
     "execution_count": 19,
     "metadata": {},
     "output_type": "execute_result"
    }
   ],
   "source": [
    "reactions.Type.value_counts()"
   ]
  },
  {
   "cell_type": "code",
   "execution_count": 20,
   "metadata": {},
   "outputs": [
    {
     "data": {
      "text/plain": [
       "0"
      ]
     },
     "execution_count": 20,
     "metadata": {},
     "output_type": "execute_result"
    }
   ],
   "source": [
    "# checks for duplicates in table\n",
    "sum(reactions.duplicated())"
   ]
  },
  {
   "cell_type": "code",
   "execution_count": 21,
   "metadata": {},
   "outputs": [
    {
     "data": {
      "text/html": [
       "<div>\n",
       "<style scoped>\n",
       "    .dataframe tbody tr th:only-of-type {\n",
       "        vertical-align: middle;\n",
       "    }\n",
       "\n",
       "    .dataframe tbody tr th {\n",
       "        vertical-align: top;\n",
       "    }\n",
       "\n",
       "    .dataframe thead th {\n",
       "        text-align: right;\n",
       "    }\n",
       "</style>\n",
       "<table border=\"1\" class=\"dataframe\">\n",
       "  <thead>\n",
       "    <tr style=\"text-align: right;\">\n",
       "      <th></th>\n",
       "      <th>Content ID</th>\n",
       "      <th>User ID</th>\n",
       "      <th>Type</th>\n",
       "      <th>Datetime</th>\n",
       "    </tr>\n",
       "  </thead>\n",
       "  <tbody>\n",
       "    <tr>\n",
       "      <th>0</th>\n",
       "      <td>False</td>\n",
       "      <td>True</td>\n",
       "      <td>True</td>\n",
       "      <td>False</td>\n",
       "    </tr>\n",
       "    <tr>\n",
       "      <th>1</th>\n",
       "      <td>False</td>\n",
       "      <td>False</td>\n",
       "      <td>False</td>\n",
       "      <td>False</td>\n",
       "    </tr>\n",
       "    <tr>\n",
       "      <th>2</th>\n",
       "      <td>False</td>\n",
       "      <td>False</td>\n",
       "      <td>False</td>\n",
       "      <td>False</td>\n",
       "    </tr>\n",
       "    <tr>\n",
       "      <th>3</th>\n",
       "      <td>False</td>\n",
       "      <td>False</td>\n",
       "      <td>False</td>\n",
       "      <td>False</td>\n",
       "    </tr>\n",
       "    <tr>\n",
       "      <th>4</th>\n",
       "      <td>False</td>\n",
       "      <td>False</td>\n",
       "      <td>False</td>\n",
       "      <td>False</td>\n",
       "    </tr>\n",
       "    <tr>\n",
       "      <th>...</th>\n",
       "      <td>...</td>\n",
       "      <td>...</td>\n",
       "      <td>...</td>\n",
       "      <td>...</td>\n",
       "    </tr>\n",
       "    <tr>\n",
       "      <th>25548</th>\n",
       "      <td>False</td>\n",
       "      <td>False</td>\n",
       "      <td>False</td>\n",
       "      <td>False</td>\n",
       "    </tr>\n",
       "    <tr>\n",
       "      <th>25549</th>\n",
       "      <td>False</td>\n",
       "      <td>False</td>\n",
       "      <td>False</td>\n",
       "      <td>False</td>\n",
       "    </tr>\n",
       "    <tr>\n",
       "      <th>25550</th>\n",
       "      <td>False</td>\n",
       "      <td>True</td>\n",
       "      <td>False</td>\n",
       "      <td>False</td>\n",
       "    </tr>\n",
       "    <tr>\n",
       "      <th>25551</th>\n",
       "      <td>False</td>\n",
       "      <td>False</td>\n",
       "      <td>False</td>\n",
       "      <td>False</td>\n",
       "    </tr>\n",
       "    <tr>\n",
       "      <th>25552</th>\n",
       "      <td>False</td>\n",
       "      <td>False</td>\n",
       "      <td>False</td>\n",
       "      <td>False</td>\n",
       "    </tr>\n",
       "  </tbody>\n",
       "</table>\n",
       "<p>25553 rows × 4 columns</p>\n",
       "</div>"
      ],
      "text/plain": [
       "       Content ID  User ID   Type  Datetime\n",
       "0           False     True   True     False\n",
       "1           False    False  False     False\n",
       "2           False    False  False     False\n",
       "3           False    False  False     False\n",
       "4           False    False  False     False\n",
       "...           ...      ...    ...       ...\n",
       "25548       False    False  False     False\n",
       "25549       False    False  False     False\n",
       "25550       False     True  False     False\n",
       "25551       False    False  False     False\n",
       "25552       False    False  False     False\n",
       "\n",
       "[25553 rows x 4 columns]"
      ]
     },
     "execution_count": 21,
     "metadata": {},
     "output_type": "execute_result"
    }
   ],
   "source": [
    "# checks for missing entries\n",
    "reactions.isna()"
   ]
  },
  {
   "cell_type": "code",
   "execution_count": 22,
   "metadata": {},
   "outputs": [
    {
     "data": {
      "text/plain": [
       "https://socialbuzz.cdn.com/content/storage/97522e57-d9ab-4bd6-97bf-c24d952602d2    1\n",
       "https://socialbuzz.cdn.com/content/storage/d0c1d7f4-7735-49a9-ab6b-2cdb2338a609    1\n",
       "https://socialbuzz.cdn.com/content/storage/22cdf77b-00c8-41c3-ad59-333c3e751e2c    1\n",
       "https://socialbuzz.cdn.com/content/storage/28b8c278-a125-4295-98dd-5f8d45c3200b    1\n",
       "https://socialbuzz.cdn.com/content/storage/e1792fe6-28e0-49fc-8b01-0e027461d8b5    1\n",
       "                                                                                  ..\n",
       "https://socialbuzz.cdn.com/content/storage/16fb5dcb-4349-4831-acf2-8c116ad7dae5    1\n",
       "https://socialbuzz.cdn.com/content/storage/0d5eb9fd-879d-4716-aebc-840f7b1b7e9f    1\n",
       "https://socialbuzz.cdn.com/content/storage/e4827a5c-c604-4aad-b7ed-b396b3601b74    1\n",
       "https://socialbuzz.cdn.com/content/storage/abecd821-ad3d-43b0-a550-aadd9d267072    1\n",
       "https://socialbuzz.cdn.com/content/storage/75d6b589-7fae-4a6d-b0d0-752845150e56    1\n",
       "Name: URL, Length: 1000, dtype: int64"
      ]
     },
     "execution_count": 22,
     "metadata": {},
     "output_type": "execute_result"
    }
   ],
   "source": [
    "# returns a series containing counts of unique rows in dataset\n",
    "content.URL.value_counts()"
   ]
  },
  {
   "cell_type": "code",
   "execution_count": 23,
   "metadata": {
    "scrolled": false
   },
   "outputs": [
    {
     "data": {
      "text/html": [
       "<div>\n",
       "<style scoped>\n",
       "    .dataframe tbody tr th:only-of-type {\n",
       "        vertical-align: middle;\n",
       "    }\n",
       "\n",
       "    .dataframe tbody tr th {\n",
       "        vertical-align: top;\n",
       "    }\n",
       "\n",
       "    .dataframe thead th {\n",
       "        text-align: right;\n",
       "    }\n",
       "</style>\n",
       "<table border=\"1\" class=\"dataframe\">\n",
       "  <thead>\n",
       "    <tr style=\"text-align: right;\">\n",
       "      <th></th>\n",
       "      <th>Type</th>\n",
       "      <th>Sentiment</th>\n",
       "      <th>Score</th>\n",
       "    </tr>\n",
       "  </thead>\n",
       "  <tbody>\n",
       "    <tr>\n",
       "      <th>0</th>\n",
       "      <td>heart</td>\n",
       "      <td>positive</td>\n",
       "      <td>60</td>\n",
       "    </tr>\n",
       "    <tr>\n",
       "      <th>1</th>\n",
       "      <td>want</td>\n",
       "      <td>positive</td>\n",
       "      <td>70</td>\n",
       "    </tr>\n",
       "    <tr>\n",
       "      <th>2</th>\n",
       "      <td>disgust</td>\n",
       "      <td>negative</td>\n",
       "      <td>0</td>\n",
       "    </tr>\n",
       "    <tr>\n",
       "      <th>3</th>\n",
       "      <td>hate</td>\n",
       "      <td>negative</td>\n",
       "      <td>5</td>\n",
       "    </tr>\n",
       "    <tr>\n",
       "      <th>4</th>\n",
       "      <td>interested</td>\n",
       "      <td>positive</td>\n",
       "      <td>30</td>\n",
       "    </tr>\n",
       "    <tr>\n",
       "      <th>5</th>\n",
       "      <td>indifferent</td>\n",
       "      <td>neutral</td>\n",
       "      <td>20</td>\n",
       "    </tr>\n",
       "    <tr>\n",
       "      <th>6</th>\n",
       "      <td>love</td>\n",
       "      <td>positive</td>\n",
       "      <td>65</td>\n",
       "    </tr>\n",
       "    <tr>\n",
       "      <th>7</th>\n",
       "      <td>super love</td>\n",
       "      <td>positive</td>\n",
       "      <td>75</td>\n",
       "    </tr>\n",
       "    <tr>\n",
       "      <th>8</th>\n",
       "      <td>cherish</td>\n",
       "      <td>positive</td>\n",
       "      <td>70</td>\n",
       "    </tr>\n",
       "    <tr>\n",
       "      <th>9</th>\n",
       "      <td>adore</td>\n",
       "      <td>positive</td>\n",
       "      <td>72</td>\n",
       "    </tr>\n",
       "    <tr>\n",
       "      <th>10</th>\n",
       "      <td>like</td>\n",
       "      <td>positive</td>\n",
       "      <td>50</td>\n",
       "    </tr>\n",
       "    <tr>\n",
       "      <th>11</th>\n",
       "      <td>dislike</td>\n",
       "      <td>negative</td>\n",
       "      <td>10</td>\n",
       "    </tr>\n",
       "    <tr>\n",
       "      <th>12</th>\n",
       "      <td>intrigued</td>\n",
       "      <td>positive</td>\n",
       "      <td>45</td>\n",
       "    </tr>\n",
       "    <tr>\n",
       "      <th>13</th>\n",
       "      <td>peeking</td>\n",
       "      <td>neutral</td>\n",
       "      <td>35</td>\n",
       "    </tr>\n",
       "    <tr>\n",
       "      <th>14</th>\n",
       "      <td>scared</td>\n",
       "      <td>negative</td>\n",
       "      <td>15</td>\n",
       "    </tr>\n",
       "    <tr>\n",
       "      <th>15</th>\n",
       "      <td>worried</td>\n",
       "      <td>negative</td>\n",
       "      <td>12</td>\n",
       "    </tr>\n",
       "  </tbody>\n",
       "</table>\n",
       "</div>"
      ],
      "text/plain": [
       "           Type Sentiment  Score\n",
       "0         heart  positive     60\n",
       "1          want  positive     70\n",
       "2       disgust  negative      0\n",
       "3          hate  negative      5\n",
       "4    interested  positive     30\n",
       "5   indifferent   neutral     20\n",
       "6          love  positive     65\n",
       "7    super love  positive     75\n",
       "8       cherish  positive     70\n",
       "9         adore  positive     72\n",
       "10         like  positive     50\n",
       "11      dislike  negative     10\n",
       "12    intrigued  positive     45\n",
       "13      peeking   neutral     35\n",
       "14       scared  negative     15\n",
       "15      worried  negative     12"
      ]
     },
     "execution_count": 23,
     "metadata": {},
     "output_type": "execute_result"
    }
   ],
   "source": [
    "reactiontypes"
   ]
  },
  {
   "cell_type": "code",
   "execution_count": 24,
   "metadata": {},
   "outputs": [
    {
     "name": "stdout",
     "output_type": "stream",
     "text": [
      "<class 'pandas.core.frame.DataFrame'>\n",
      "Int64Index: 16 entries, 0 to 15\n",
      "Data columns (total 3 columns):\n",
      " #   Column     Non-Null Count  Dtype \n",
      "---  ------     --------------  ----- \n",
      " 0   Type       16 non-null     object\n",
      " 1   Sentiment  16 non-null     object\n",
      " 2   Score      16 non-null     int64 \n",
      "dtypes: int64(1), object(2)\n",
      "memory usage: 512.0+ bytes\n"
     ]
    }
   ],
   "source": [
    "# Return a coincise summary of the table- datatypes, non-null values, column names etc.\n",
    "reactiontypes.info()"
   ]
  },
  {
   "cell_type": "code",
   "execution_count": 25,
   "metadata": {},
   "outputs": [
    {
     "data": {
      "text/plain": [
       "0"
      ]
     },
     "execution_count": 25,
     "metadata": {},
     "output_type": "execute_result"
    }
   ],
   "source": [
    "# checks for duplicates in table\n",
    "sum(reactiontypes.duplicated())"
   ]
  },
  {
   "cell_type": "code",
   "execution_count": 26,
   "metadata": {},
   "outputs": [
    {
     "data": {
      "text/html": [
       "<div>\n",
       "<style scoped>\n",
       "    .dataframe tbody tr th:only-of-type {\n",
       "        vertical-align: middle;\n",
       "    }\n",
       "\n",
       "    .dataframe tbody tr th {\n",
       "        vertical-align: top;\n",
       "    }\n",
       "\n",
       "    .dataframe thead th {\n",
       "        text-align: right;\n",
       "    }\n",
       "</style>\n",
       "<table border=\"1\" class=\"dataframe\">\n",
       "  <thead>\n",
       "    <tr style=\"text-align: right;\">\n",
       "      <th></th>\n",
       "      <th>Type</th>\n",
       "      <th>Sentiment</th>\n",
       "      <th>Score</th>\n",
       "    </tr>\n",
       "  </thead>\n",
       "  <tbody>\n",
       "    <tr>\n",
       "      <th>0</th>\n",
       "      <td>False</td>\n",
       "      <td>False</td>\n",
       "      <td>False</td>\n",
       "    </tr>\n",
       "    <tr>\n",
       "      <th>1</th>\n",
       "      <td>False</td>\n",
       "      <td>False</td>\n",
       "      <td>False</td>\n",
       "    </tr>\n",
       "    <tr>\n",
       "      <th>2</th>\n",
       "      <td>False</td>\n",
       "      <td>False</td>\n",
       "      <td>False</td>\n",
       "    </tr>\n",
       "    <tr>\n",
       "      <th>3</th>\n",
       "      <td>False</td>\n",
       "      <td>False</td>\n",
       "      <td>False</td>\n",
       "    </tr>\n",
       "    <tr>\n",
       "      <th>4</th>\n",
       "      <td>False</td>\n",
       "      <td>False</td>\n",
       "      <td>False</td>\n",
       "    </tr>\n",
       "    <tr>\n",
       "      <th>5</th>\n",
       "      <td>False</td>\n",
       "      <td>False</td>\n",
       "      <td>False</td>\n",
       "    </tr>\n",
       "    <tr>\n",
       "      <th>6</th>\n",
       "      <td>False</td>\n",
       "      <td>False</td>\n",
       "      <td>False</td>\n",
       "    </tr>\n",
       "    <tr>\n",
       "      <th>7</th>\n",
       "      <td>False</td>\n",
       "      <td>False</td>\n",
       "      <td>False</td>\n",
       "    </tr>\n",
       "    <tr>\n",
       "      <th>8</th>\n",
       "      <td>False</td>\n",
       "      <td>False</td>\n",
       "      <td>False</td>\n",
       "    </tr>\n",
       "    <tr>\n",
       "      <th>9</th>\n",
       "      <td>False</td>\n",
       "      <td>False</td>\n",
       "      <td>False</td>\n",
       "    </tr>\n",
       "    <tr>\n",
       "      <th>10</th>\n",
       "      <td>False</td>\n",
       "      <td>False</td>\n",
       "      <td>False</td>\n",
       "    </tr>\n",
       "    <tr>\n",
       "      <th>11</th>\n",
       "      <td>False</td>\n",
       "      <td>False</td>\n",
       "      <td>False</td>\n",
       "    </tr>\n",
       "    <tr>\n",
       "      <th>12</th>\n",
       "      <td>False</td>\n",
       "      <td>False</td>\n",
       "      <td>False</td>\n",
       "    </tr>\n",
       "    <tr>\n",
       "      <th>13</th>\n",
       "      <td>False</td>\n",
       "      <td>False</td>\n",
       "      <td>False</td>\n",
       "    </tr>\n",
       "    <tr>\n",
       "      <th>14</th>\n",
       "      <td>False</td>\n",
       "      <td>False</td>\n",
       "      <td>False</td>\n",
       "    </tr>\n",
       "    <tr>\n",
       "      <th>15</th>\n",
       "      <td>False</td>\n",
       "      <td>False</td>\n",
       "      <td>False</td>\n",
       "    </tr>\n",
       "  </tbody>\n",
       "</table>\n",
       "</div>"
      ],
      "text/plain": [
       "     Type  Sentiment  Score\n",
       "0   False      False  False\n",
       "1   False      False  False\n",
       "2   False      False  False\n",
       "3   False      False  False\n",
       "4   False      False  False\n",
       "5   False      False  False\n",
       "6   False      False  False\n",
       "7   False      False  False\n",
       "8   False      False  False\n",
       "9   False      False  False\n",
       "10  False      False  False\n",
       "11  False      False  False\n",
       "12  False      False  False\n",
       "13  False      False  False\n",
       "14  False      False  False\n",
       "15  False      False  False"
      ]
     },
     "execution_count": 26,
     "metadata": {},
     "output_type": "execute_result"
    }
   ],
   "source": [
    "# checks for missing entries\n",
    "reactiontypes.isna()"
   ]
  },
  {
   "cell_type": "markdown",
   "metadata": {},
   "source": [
    "## Issues"
   ]
  },
  {
   "cell_type": "markdown",
   "metadata": {},
   "source": [
    "#### Data Quality\n",
    "\n",
    " - Missing entries in `reactions`(User ID, Type) table\n",
    " - Wrong datatype for datetime in `reactions` table\n",
    " - Multiple representations of category data entry in `content` table - sometimes quotes, sometimes no quotes, sometimes lowercase, sometimes uppercase\n",
    " - Use of non-unique column names with varied values in `content` table(Type) and `reactions`/`reactiontypes`(Type) table\n",
    " - Non-descriptive column headers(Type in Content table and Type in Reactions table\n",
    " - Inconsistent column headers naming format- sometimes lower case, sometimes upper case(URL), whitespace in column headers (User ID)\n",
    " "
   ]
  },
  {
   "cell_type": "markdown",
   "metadata": {},
   "source": [
    "#### Tidiness\n",
    "\n",
    "- `reactions`, `reactiontypes` and `location` tables should be part of `content` table\n",
    " - Extraneous columns\n",
    "\n"
   ]
  },
  {
   "cell_type": "markdown",
   "metadata": {},
   "source": [
    "# Data Cleaning"
   ]
  },
  {
   "cell_type": "code",
   "execution_count": 27,
   "metadata": {},
   "outputs": [],
   "source": [
    "content_clean=content.copy()\n",
    "reactions_clean=reactions.copy()\n",
    "reactiontypes_clean = reactiontypes.copy()"
   ]
  },
  {
   "cell_type": "markdown",
   "metadata": {},
   "source": [
    "##### Issue1: Missing data in User ID and Type column - No need to clean as it will be dropped"
   ]
  },
  {
   "cell_type": "markdown",
   "metadata": {},
   "source": [
    "##### Issue2: Wrong datatype "
   ]
  },
  {
   "cell_type": "markdown",
   "metadata": {},
   "source": [
    "`reactions`: Datetime should be timestamp, not a string"
   ]
  },
  {
   "cell_type": "markdown",
   "metadata": {},
   "source": [
    "#### Define\n",
    "\n",
    "Convert Datetime from string to datetime datatype"
   ]
  },
  {
   "cell_type": "markdown",
   "metadata": {},
   "source": [
    "#### Code"
   ]
  },
  {
   "cell_type": "code",
   "execution_count": 28,
   "metadata": {},
   "outputs": [],
   "source": [
    "reactions_clean['Datetime'] = pd.to_datetime(reactions_clean['Datetime'])"
   ]
  },
  {
   "cell_type": "markdown",
   "metadata": {},
   "source": [
    "#### Test"
   ]
  },
  {
   "cell_type": "code",
   "execution_count": 29,
   "metadata": {},
   "outputs": [
    {
     "data": {
      "text/plain": [
       "dtype('<M8[ns]')"
      ]
     },
     "execution_count": 29,
     "metadata": {},
     "output_type": "execute_result"
    }
   ],
   "source": [
    "# confirm that datetime is now datetime datatype\n",
    "reactions_clean.Datetime.dtype"
   ]
  },
  {
   "cell_type": "code",
   "execution_count": 30,
   "metadata": {},
   "outputs": [
    {
     "name": "stdout",
     "output_type": "stream",
     "text": [
      "<class 'pandas.core.frame.DataFrame'>\n",
      "Int64Index: 25553 entries, 0 to 25552\n",
      "Data columns (total 4 columns):\n",
      " #   Column      Non-Null Count  Dtype         \n",
      "---  ------      --------------  -----         \n",
      " 0   Content ID  25553 non-null  object        \n",
      " 1   User ID     22534 non-null  object        \n",
      " 2   Type        24573 non-null  object        \n",
      " 3   Datetime    25553 non-null  datetime64[ns]\n",
      "dtypes: datetime64[ns](1), object(3)\n",
      "memory usage: 998.2+ KB\n"
     ]
    }
   ],
   "source": [
    "reactions_clean.info()"
   ]
  },
  {
   "cell_type": "code",
   "execution_count": 31,
   "metadata": {},
   "outputs": [
    {
     "data": {
      "text/html": [
       "<div>\n",
       "<style scoped>\n",
       "    .dataframe tbody tr th:only-of-type {\n",
       "        vertical-align: middle;\n",
       "    }\n",
       "\n",
       "    .dataframe tbody tr th {\n",
       "        vertical-align: top;\n",
       "    }\n",
       "\n",
       "    .dataframe thead th {\n",
       "        text-align: right;\n",
       "    }\n",
       "</style>\n",
       "<table border=\"1\" class=\"dataframe\">\n",
       "  <thead>\n",
       "    <tr style=\"text-align: right;\">\n",
       "      <th></th>\n",
       "      <th>Content ID</th>\n",
       "      <th>User ID</th>\n",
       "      <th>Type</th>\n",
       "      <th>Category</th>\n",
       "      <th>URL</th>\n",
       "    </tr>\n",
       "  </thead>\n",
       "  <tbody>\n",
       "    <tr>\n",
       "      <th>0</th>\n",
       "      <td>97522e57-d9ab-4bd6-97bf-c24d952602d2</td>\n",
       "      <td>8d3cd87d-8a31-4935-9a4f-b319bfe05f31</td>\n",
       "      <td>photo</td>\n",
       "      <td>Studying</td>\n",
       "      <td>https://socialbuzz.cdn.com/content/storage/975...</td>\n",
       "    </tr>\n",
       "    <tr>\n",
       "      <th>1</th>\n",
       "      <td>9f737e0a-3cdd-4d29-9d24-753f4e3be810</td>\n",
       "      <td>beb1f34e-7870-46d6-9fc7-2e12eb83ce43</td>\n",
       "      <td>photo</td>\n",
       "      <td>healthy eating</td>\n",
       "      <td>https://socialbuzz.cdn.com/content/storage/9f7...</td>\n",
       "    </tr>\n",
       "    <tr>\n",
       "      <th>2</th>\n",
       "      <td>230c4e4d-70c3-461d-b42c-ec09396efb3f</td>\n",
       "      <td>a5c65404-5894-4b87-82f2-d787cbee86b4</td>\n",
       "      <td>photo</td>\n",
       "      <td>healthy eating</td>\n",
       "      <td>https://socialbuzz.cdn.com/content/storage/230...</td>\n",
       "    </tr>\n",
       "    <tr>\n",
       "      <th>3</th>\n",
       "      <td>356fff80-da4d-4785-9f43-bc1261031dc6</td>\n",
       "      <td>9fb4ce88-fac1-406c-8544-1a899cee7aaf</td>\n",
       "      <td>photo</td>\n",
       "      <td>technology</td>\n",
       "      <td>https://socialbuzz.cdn.com/content/storage/356...</td>\n",
       "    </tr>\n",
       "    <tr>\n",
       "      <th>4</th>\n",
       "      <td>01ab84dd-6364-4236-abbb-3f237db77180</td>\n",
       "      <td>e206e31b-5f85-4964-b6ea-d7ee5324def1</td>\n",
       "      <td>video</td>\n",
       "      <td>food</td>\n",
       "      <td>https://socialbuzz.cdn.com/content/storage/01a...</td>\n",
       "    </tr>\n",
       "    <tr>\n",
       "      <th>...</th>\n",
       "      <td>...</td>\n",
       "      <td>...</td>\n",
       "      <td>...</td>\n",
       "      <td>...</td>\n",
       "      <td>...</td>\n",
       "    </tr>\n",
       "    <tr>\n",
       "      <th>995</th>\n",
       "      <td>b4cef9ef-627b-41d7-a051-5961b0204ebb</td>\n",
       "      <td>5b62e10e-3c19-4d28-a57c-e9bdc3d6758d</td>\n",
       "      <td>video</td>\n",
       "      <td>public speaking</td>\n",
       "      <td>https://socialbuzz.cdn.com/content/storage/b4c...</td>\n",
       "    </tr>\n",
       "    <tr>\n",
       "      <th>996</th>\n",
       "      <td>7a79f4e4-3b7d-44dc-bdef-bc990740252c</td>\n",
       "      <td>4fe420fa-a193-4408-bd5d-62a020233609</td>\n",
       "      <td>GIF</td>\n",
       "      <td>technology</td>\n",
       "      <td>https://socialbuzz.cdn.com/content/storage/7a7...</td>\n",
       "    </tr>\n",
       "    <tr>\n",
       "      <th>997</th>\n",
       "      <td>435007a5-6261-4d8b-b0a4-55fdc189754b</td>\n",
       "      <td>35d6a1f3-e358-4d4b-8074-05f3b7f35c2a</td>\n",
       "      <td>audio</td>\n",
       "      <td>veganism</td>\n",
       "      <td>https://socialbuzz.cdn.com/content/storage/435...</td>\n",
       "    </tr>\n",
       "    <tr>\n",
       "      <th>998</th>\n",
       "      <td>4e4c9690-c013-4ee7-9e66-943d8cbd27b7</td>\n",
       "      <td>b9bcd994-f000-4f6b-87fc-caae08acfaa1</td>\n",
       "      <td>GIF</td>\n",
       "      <td>culture</td>\n",
       "      <td>https://socialbuzz.cdn.com/content/storage/4e4...</td>\n",
       "    </tr>\n",
       "    <tr>\n",
       "      <th>999</th>\n",
       "      <td>75d6b589-7fae-4a6d-b0d0-752845150e56</td>\n",
       "      <td>b8c653b5-0118-4d7e-9bde-07c2de90f0ff</td>\n",
       "      <td>audio</td>\n",
       "      <td>technology</td>\n",
       "      <td>https://socialbuzz.cdn.com/content/storage/75d...</td>\n",
       "    </tr>\n",
       "  </tbody>\n",
       "</table>\n",
       "<p>1000 rows × 5 columns</p>\n",
       "</div>"
      ],
      "text/plain": [
       "                               Content ID  \\\n",
       "0    97522e57-d9ab-4bd6-97bf-c24d952602d2   \n",
       "1    9f737e0a-3cdd-4d29-9d24-753f4e3be810   \n",
       "2    230c4e4d-70c3-461d-b42c-ec09396efb3f   \n",
       "3    356fff80-da4d-4785-9f43-bc1261031dc6   \n",
       "4    01ab84dd-6364-4236-abbb-3f237db77180   \n",
       "..                                    ...   \n",
       "995  b4cef9ef-627b-41d7-a051-5961b0204ebb   \n",
       "996  7a79f4e4-3b7d-44dc-bdef-bc990740252c   \n",
       "997  435007a5-6261-4d8b-b0a4-55fdc189754b   \n",
       "998  4e4c9690-c013-4ee7-9e66-943d8cbd27b7   \n",
       "999  75d6b589-7fae-4a6d-b0d0-752845150e56   \n",
       "\n",
       "                                  User ID   Type         Category  \\\n",
       "0    8d3cd87d-8a31-4935-9a4f-b319bfe05f31  photo         Studying   \n",
       "1    beb1f34e-7870-46d6-9fc7-2e12eb83ce43  photo   healthy eating   \n",
       "2    a5c65404-5894-4b87-82f2-d787cbee86b4  photo   healthy eating   \n",
       "3    9fb4ce88-fac1-406c-8544-1a899cee7aaf  photo       technology   \n",
       "4    e206e31b-5f85-4964-b6ea-d7ee5324def1  video             food   \n",
       "..                                    ...    ...              ...   \n",
       "995  5b62e10e-3c19-4d28-a57c-e9bdc3d6758d  video  public speaking   \n",
       "996  4fe420fa-a193-4408-bd5d-62a020233609    GIF       technology   \n",
       "997  35d6a1f3-e358-4d4b-8074-05f3b7f35c2a  audio         veganism   \n",
       "998  b9bcd994-f000-4f6b-87fc-caae08acfaa1    GIF          culture   \n",
       "999  b8c653b5-0118-4d7e-9bde-07c2de90f0ff  audio       technology   \n",
       "\n",
       "                                                   URL  \n",
       "0    https://socialbuzz.cdn.com/content/storage/975...  \n",
       "1    https://socialbuzz.cdn.com/content/storage/9f7...  \n",
       "2    https://socialbuzz.cdn.com/content/storage/230...  \n",
       "3    https://socialbuzz.cdn.com/content/storage/356...  \n",
       "4    https://socialbuzz.cdn.com/content/storage/01a...  \n",
       "..                                                 ...  \n",
       "995  https://socialbuzz.cdn.com/content/storage/b4c...  \n",
       "996  https://socialbuzz.cdn.com/content/storage/7a7...  \n",
       "997  https://socialbuzz.cdn.com/content/storage/435...  \n",
       "998  https://socialbuzz.cdn.com/content/storage/4e4...  \n",
       "999  https://socialbuzz.cdn.com/content/storage/75d...  \n",
       "\n",
       "[1000 rows x 5 columns]"
      ]
     },
     "execution_count": 31,
     "metadata": {},
     "output_type": "execute_result"
    }
   ],
   "source": [
    "content_clean"
   ]
  },
  {
   "cell_type": "markdown",
   "metadata": {},
   "source": [
    "##### Issue 3: Multiple representations of column entries in Category column\n",
    "First remove double quotes in category column entries\n",
    "then convert all uppercase entries to lower case entries to remove multiple representations"
   ]
  },
  {
   "cell_type": "markdown",
   "metadata": {},
   "source": [
    "`content`: double quotes are present in Category column entries"
   ]
  },
  {
   "cell_type": "markdown",
   "metadata": {},
   "source": [
    "#### Define  \n",
    "Remove double quotes from Category column entries"
   ]
  },
  {
   "cell_type": "markdown",
   "metadata": {},
   "source": [
    "#### Code"
   ]
  },
  {
   "cell_type": "code",
   "execution_count": 32,
   "metadata": {},
   "outputs": [],
   "source": [
    "# remove double quotes in category column entrie\n",
    "content_clean['Category'] = content_clean['Category'].apply(lambda x: x.replace('\"', ''))"
   ]
  },
  {
   "cell_type": "code",
   "execution_count": 33,
   "metadata": {},
   "outputs": [],
   "source": [
    "# convert all uppercase entries to lower case entries to remove multiple representations\n",
    "content_clean['Category'] = content_clean['Category'].str.lower()"
   ]
  },
  {
   "cell_type": "markdown",
   "metadata": {},
   "source": [
    "#### Test"
   ]
  },
  {
   "cell_type": "code",
   "execution_count": 34,
   "metadata": {},
   "outputs": [
    {
     "data": {
      "text/plain": [
       "technology         73\n",
       "animals            72\n",
       "travel             69\n",
       "science            68\n",
       "culture            67\n",
       "fitness            66\n",
       "food               64\n",
       "soccer             64\n",
       "healthy eating     62\n",
       "cooking            61\n",
       "tennis             59\n",
       "education          59\n",
       "studying           58\n",
       "dogs               58\n",
       "public speaking    50\n",
       "veganism           50\n",
       "Name: Category, dtype: int64"
      ]
     },
     "execution_count": 34,
     "metadata": {},
     "output_type": "execute_result"
    }
   ],
   "source": [
    "# confirm that there are no multiple representations of column entries in Content Category\n",
    "content_clean.Category.value_counts()"
   ]
  },
  {
   "cell_type": "code",
   "execution_count": 35,
   "metadata": {},
   "outputs": [
    {
     "data": {
      "text/plain": [
       "16"
      ]
     },
     "execution_count": 35,
     "metadata": {},
     "output_type": "execute_result"
    }
   ],
   "source": [
    "content_clean.Category.nunique()"
   ]
  },
  {
   "cell_type": "markdown",
   "metadata": {},
   "source": [
    "##### Issue 4, 5 & 6: Inconsistent column names "
   ]
  },
  {
   "cell_type": "markdown",
   "metadata": {},
   "source": [
    "`content`: "
   ]
  },
  {
   "cell_type": "markdown",
   "metadata": {},
   "source": [
    "#### Define  \n",
    "\n",
    "Rename column names to ensure that all column names follow a consistent pattern for easy readability and useability"
   ]
  },
  {
   "cell_type": "markdown",
   "metadata": {},
   "source": [
    "#### Code"
   ]
  },
  {
   "cell_type": "code",
   "execution_count": 36,
   "metadata": {},
   "outputs": [
    {
     "name": "stdout",
     "output_type": "stream",
     "text": [
      "<class 'pandas.core.frame.DataFrame'>\n",
      "Int64Index: 1000 entries, 0 to 999\n",
      "Data columns (total 5 columns):\n",
      " #   Column      Non-Null Count  Dtype \n",
      "---  ------      --------------  ----- \n",
      " 0   content_id  1000 non-null   object\n",
      " 1   user_id     1000 non-null   object\n",
      " 2   c_type      1000 non-null   object\n",
      " 3   c_category  1000 non-null   object\n",
      " 4   c_url       1000 non-null   object\n",
      "dtypes: object(5)\n",
      "memory usage: 46.9+ KB\n"
     ]
    }
   ],
   "source": [
    "content_clean.rename(columns={'Content ID':'content_id','User ID':'user_id','Type':'c_type','Category':'c_category','URL':'c_url'}, inplace=True)\n",
    "content_clean.info()"
   ]
  },
  {
   "cell_type": "code",
   "execution_count": 37,
   "metadata": {},
   "outputs": [
    {
     "name": "stdout",
     "output_type": "stream",
     "text": [
      "<class 'pandas.core.frame.DataFrame'>\n",
      "Int64Index: 25553 entries, 0 to 25552\n",
      "Data columns (total 4 columns):\n",
      " #   Column      Non-Null Count  Dtype         \n",
      "---  ------      --------------  -----         \n",
      " 0   content_id  25553 non-null  object        \n",
      " 1   user_id     22534 non-null  object        \n",
      " 2   r_type      24573 non-null  object        \n",
      " 3   datetime    25553 non-null  datetime64[ns]\n",
      "dtypes: datetime64[ns](1), object(3)\n",
      "memory usage: 998.2+ KB\n"
     ]
    }
   ],
   "source": [
    "reactions_clean.rename(columns={'Content ID':'content_id','User ID':'user_id','Type':'r_type','Datetime':'datetime'}, inplace=True)\n",
    "reactions_clean.info()"
   ]
  },
  {
   "cell_type": "code",
   "execution_count": 38,
   "metadata": {},
   "outputs": [
    {
     "name": "stdout",
     "output_type": "stream",
     "text": [
      "<class 'pandas.core.frame.DataFrame'>\n",
      "Int64Index: 16 entries, 0 to 15\n",
      "Data columns (total 3 columns):\n",
      " #   Column       Non-Null Count  Dtype \n",
      "---  ------       --------------  ----- \n",
      " 0   r_type       16 non-null     object\n",
      " 1   r_sentiment  16 non-null     object\n",
      " 2   r_score      16 non-null     int64 \n",
      "dtypes: int64(1), object(2)\n",
      "memory usage: 512.0+ bytes\n"
     ]
    }
   ],
   "source": [
    "reactiontypes_clean.rename(columns={'Score':'r_score','Sentiment':'r_sentiment','Type':'r_type'}, inplace=True)\n",
    "reactiontypes_clean.info()"
   ]
  },
  {
   "cell_type": "markdown",
   "metadata": {},
   "source": [
    "#### Issue7: Seperate tables need to be merged"
   ]
  },
  {
   "cell_type": "markdown",
   "metadata": {},
   "source": [
    "#### Define\n",
    "Tables should be merged into one table\n",
    "- Reactions table is used as the base table since it has primary columns of content id and reaction type"
   ]
  },
  {
   "cell_type": "markdown",
   "metadata": {},
   "source": [
    "#### Code"
   ]
  },
  {
   "cell_type": "code",
   "execution_count": 39,
   "metadata": {},
   "outputs": [],
   "source": [
    "# Merge content table to reaction table to content_reaction table\n",
    "content_reaction =pd.merge(reactions_clean, content_clean, how='inner', on=['content_id'])"
   ]
  },
  {
   "cell_type": "code",
   "execution_count": 40,
   "metadata": {},
   "outputs": [],
   "source": [
    "# Merge content_reaction to reactiontypes table\n",
    "content_reaction = pd.merge(content_reaction, reactiontypes_clean, how='inner', on =['r_type'])"
   ]
  },
  {
   "cell_type": "markdown",
   "metadata": {},
   "source": [
    "#### Test"
   ]
  },
  {
   "cell_type": "code",
   "execution_count": 41,
   "metadata": {},
   "outputs": [
    {
     "data": {
      "text/html": [
       "<div>\n",
       "<style scoped>\n",
       "    .dataframe tbody tr th:only-of-type {\n",
       "        vertical-align: middle;\n",
       "    }\n",
       "\n",
       "    .dataframe tbody tr th {\n",
       "        vertical-align: top;\n",
       "    }\n",
       "\n",
       "    .dataframe thead th {\n",
       "        text-align: right;\n",
       "    }\n",
       "</style>\n",
       "<table border=\"1\" class=\"dataframe\">\n",
       "  <thead>\n",
       "    <tr style=\"text-align: right;\">\n",
       "      <th></th>\n",
       "      <th>content_id</th>\n",
       "      <th>user_id_x</th>\n",
       "      <th>r_type</th>\n",
       "      <th>datetime</th>\n",
       "      <th>user_id_y</th>\n",
       "      <th>c_type</th>\n",
       "      <th>c_category</th>\n",
       "      <th>c_url</th>\n",
       "      <th>r_sentiment</th>\n",
       "      <th>r_score</th>\n",
       "    </tr>\n",
       "  </thead>\n",
       "  <tbody>\n",
       "    <tr>\n",
       "      <th>0</th>\n",
       "      <td>97522e57-d9ab-4bd6-97bf-c24d952602d2</td>\n",
       "      <td>5d454588-283d-459d-915d-c48a2cb4c27f</td>\n",
       "      <td>disgust</td>\n",
       "      <td>2020-11-07 09:43:50</td>\n",
       "      <td>8d3cd87d-8a31-4935-9a4f-b319bfe05f31</td>\n",
       "      <td>photo</td>\n",
       "      <td>studying</td>\n",
       "      <td>https://socialbuzz.cdn.com/content/storage/975...</td>\n",
       "      <td>negative</td>\n",
       "      <td>0</td>\n",
       "    </tr>\n",
       "    <tr>\n",
       "      <th>1</th>\n",
       "      <td>97522e57-d9ab-4bd6-97bf-c24d952602d2</td>\n",
       "      <td>34e8add9-0206-47fd-a501-037b994650a2</td>\n",
       "      <td>disgust</td>\n",
       "      <td>2021-01-06 19:13:01</td>\n",
       "      <td>8d3cd87d-8a31-4935-9a4f-b319bfe05f31</td>\n",
       "      <td>photo</td>\n",
       "      <td>studying</td>\n",
       "      <td>https://socialbuzz.cdn.com/content/storage/975...</td>\n",
       "      <td>negative</td>\n",
       "      <td>0</td>\n",
       "    </tr>\n",
       "    <tr>\n",
       "      <th>2</th>\n",
       "      <td>97522e57-d9ab-4bd6-97bf-c24d952602d2</td>\n",
       "      <td>13c06e7e-833d-47eb-a790-5e09ccfd8d2c</td>\n",
       "      <td>disgust</td>\n",
       "      <td>2021-04-09 02:46:20</td>\n",
       "      <td>8d3cd87d-8a31-4935-9a4f-b319bfe05f31</td>\n",
       "      <td>photo</td>\n",
       "      <td>studying</td>\n",
       "      <td>https://socialbuzz.cdn.com/content/storage/975...</td>\n",
       "      <td>negative</td>\n",
       "      <td>0</td>\n",
       "    </tr>\n",
       "    <tr>\n",
       "      <th>3</th>\n",
       "      <td>9f737e0a-3cdd-4d29-9d24-753f4e3be810</td>\n",
       "      <td>8b49caad-bcc5-43de-bf40-34a66ff8805c</td>\n",
       "      <td>disgust</td>\n",
       "      <td>2021-03-28 21:15:26</td>\n",
       "      <td>beb1f34e-7870-46d6-9fc7-2e12eb83ce43</td>\n",
       "      <td>photo</td>\n",
       "      <td>healthy eating</td>\n",
       "      <td>https://socialbuzz.cdn.com/content/storage/9f7...</td>\n",
       "      <td>negative</td>\n",
       "      <td>0</td>\n",
       "    </tr>\n",
       "    <tr>\n",
       "      <th>4</th>\n",
       "      <td>230c4e4d-70c3-461d-b42c-ec09396efb3f</td>\n",
       "      <td>ef147ea5-9696-44d5-b6c2-a43f62fd8ce2</td>\n",
       "      <td>disgust</td>\n",
       "      <td>2020-08-04 05:40:33</td>\n",
       "      <td>a5c65404-5894-4b87-82f2-d787cbee86b4</td>\n",
       "      <td>photo</td>\n",
       "      <td>healthy eating</td>\n",
       "      <td>https://socialbuzz.cdn.com/content/storage/230...</td>\n",
       "      <td>negative</td>\n",
       "      <td>0</td>\n",
       "    </tr>\n",
       "    <tr>\n",
       "      <th>...</th>\n",
       "      <td>...</td>\n",
       "      <td>...</td>\n",
       "      <td>...</td>\n",
       "      <td>...</td>\n",
       "      <td>...</td>\n",
       "      <td>...</td>\n",
       "      <td>...</td>\n",
       "      <td>...</td>\n",
       "      <td>...</td>\n",
       "      <td>...</td>\n",
       "    </tr>\n",
       "    <tr>\n",
       "      <th>24568</th>\n",
       "      <td>435007a5-6261-4d8b-b0a4-55fdc189754b</td>\n",
       "      <td>d51a3403-8bab-4d88-af4f-a429c6d8c168</td>\n",
       "      <td>adore</td>\n",
       "      <td>2020-10-04 22:26:33</td>\n",
       "      <td>35d6a1f3-e358-4d4b-8074-05f3b7f35c2a</td>\n",
       "      <td>audio</td>\n",
       "      <td>veganism</td>\n",
       "      <td>https://socialbuzz.cdn.com/content/storage/435...</td>\n",
       "      <td>positive</td>\n",
       "      <td>72</td>\n",
       "    </tr>\n",
       "    <tr>\n",
       "      <th>24569</th>\n",
       "      <td>435007a5-6261-4d8b-b0a4-55fdc189754b</td>\n",
       "      <td>3663e3e6-3d5c-4ed9-a6af-1e680ec5f34b</td>\n",
       "      <td>adore</td>\n",
       "      <td>2020-09-18 10:50:50</td>\n",
       "      <td>35d6a1f3-e358-4d4b-8074-05f3b7f35c2a</td>\n",
       "      <td>audio</td>\n",
       "      <td>veganism</td>\n",
       "      <td>https://socialbuzz.cdn.com/content/storage/435...</td>\n",
       "      <td>positive</td>\n",
       "      <td>72</td>\n",
       "    </tr>\n",
       "    <tr>\n",
       "      <th>24570</th>\n",
       "      <td>4e4c9690-c013-4ee7-9e66-943d8cbd27b7</td>\n",
       "      <td>89572273-761e-46f3-8b99-1689d98aac90</td>\n",
       "      <td>adore</td>\n",
       "      <td>2020-10-31 03:58:44</td>\n",
       "      <td>b9bcd994-f000-4f6b-87fc-caae08acfaa1</td>\n",
       "      <td>GIF</td>\n",
       "      <td>culture</td>\n",
       "      <td>https://socialbuzz.cdn.com/content/storage/4e4...</td>\n",
       "      <td>positive</td>\n",
       "      <td>72</td>\n",
       "    </tr>\n",
       "    <tr>\n",
       "      <th>24571</th>\n",
       "      <td>4e4c9690-c013-4ee7-9e66-943d8cbd27b7</td>\n",
       "      <td>7bf3ce80-784e-42a0-b06a-dbbd1e31a9b7</td>\n",
       "      <td>adore</td>\n",
       "      <td>2020-06-25 15:12:29</td>\n",
       "      <td>b9bcd994-f000-4f6b-87fc-caae08acfaa1</td>\n",
       "      <td>GIF</td>\n",
       "      <td>culture</td>\n",
       "      <td>https://socialbuzz.cdn.com/content/storage/4e4...</td>\n",
       "      <td>positive</td>\n",
       "      <td>72</td>\n",
       "    </tr>\n",
       "    <tr>\n",
       "      <th>24572</th>\n",
       "      <td>4e4c9690-c013-4ee7-9e66-943d8cbd27b7</td>\n",
       "      <td>dcc6000c-ba92-472c-8bc1-9e9ca30b475b</td>\n",
       "      <td>adore</td>\n",
       "      <td>2020-12-17 16:32:57</td>\n",
       "      <td>b9bcd994-f000-4f6b-87fc-caae08acfaa1</td>\n",
       "      <td>GIF</td>\n",
       "      <td>culture</td>\n",
       "      <td>https://socialbuzz.cdn.com/content/storage/4e4...</td>\n",
       "      <td>positive</td>\n",
       "      <td>72</td>\n",
       "    </tr>\n",
       "  </tbody>\n",
       "</table>\n",
       "<p>24573 rows × 10 columns</p>\n",
       "</div>"
      ],
      "text/plain": [
       "                                 content_id  \\\n",
       "0      97522e57-d9ab-4bd6-97bf-c24d952602d2   \n",
       "1      97522e57-d9ab-4bd6-97bf-c24d952602d2   \n",
       "2      97522e57-d9ab-4bd6-97bf-c24d952602d2   \n",
       "3      9f737e0a-3cdd-4d29-9d24-753f4e3be810   \n",
       "4      230c4e4d-70c3-461d-b42c-ec09396efb3f   \n",
       "...                                     ...   \n",
       "24568  435007a5-6261-4d8b-b0a4-55fdc189754b   \n",
       "24569  435007a5-6261-4d8b-b0a4-55fdc189754b   \n",
       "24570  4e4c9690-c013-4ee7-9e66-943d8cbd27b7   \n",
       "24571  4e4c9690-c013-4ee7-9e66-943d8cbd27b7   \n",
       "24572  4e4c9690-c013-4ee7-9e66-943d8cbd27b7   \n",
       "\n",
       "                                  user_id_x   r_type            datetime  \\\n",
       "0      5d454588-283d-459d-915d-c48a2cb4c27f  disgust 2020-11-07 09:43:50   \n",
       "1      34e8add9-0206-47fd-a501-037b994650a2  disgust 2021-01-06 19:13:01   \n",
       "2      13c06e7e-833d-47eb-a790-5e09ccfd8d2c  disgust 2021-04-09 02:46:20   \n",
       "3      8b49caad-bcc5-43de-bf40-34a66ff8805c  disgust 2021-03-28 21:15:26   \n",
       "4      ef147ea5-9696-44d5-b6c2-a43f62fd8ce2  disgust 2020-08-04 05:40:33   \n",
       "...                                     ...      ...                 ...   \n",
       "24568  d51a3403-8bab-4d88-af4f-a429c6d8c168    adore 2020-10-04 22:26:33   \n",
       "24569  3663e3e6-3d5c-4ed9-a6af-1e680ec5f34b    adore 2020-09-18 10:50:50   \n",
       "24570  89572273-761e-46f3-8b99-1689d98aac90    adore 2020-10-31 03:58:44   \n",
       "24571  7bf3ce80-784e-42a0-b06a-dbbd1e31a9b7    adore 2020-06-25 15:12:29   \n",
       "24572  dcc6000c-ba92-472c-8bc1-9e9ca30b475b    adore 2020-12-17 16:32:57   \n",
       "\n",
       "                                  user_id_y c_type      c_category  \\\n",
       "0      8d3cd87d-8a31-4935-9a4f-b319bfe05f31  photo        studying   \n",
       "1      8d3cd87d-8a31-4935-9a4f-b319bfe05f31  photo        studying   \n",
       "2      8d3cd87d-8a31-4935-9a4f-b319bfe05f31  photo        studying   \n",
       "3      beb1f34e-7870-46d6-9fc7-2e12eb83ce43  photo  healthy eating   \n",
       "4      a5c65404-5894-4b87-82f2-d787cbee86b4  photo  healthy eating   \n",
       "...                                     ...    ...             ...   \n",
       "24568  35d6a1f3-e358-4d4b-8074-05f3b7f35c2a  audio        veganism   \n",
       "24569  35d6a1f3-e358-4d4b-8074-05f3b7f35c2a  audio        veganism   \n",
       "24570  b9bcd994-f000-4f6b-87fc-caae08acfaa1    GIF         culture   \n",
       "24571  b9bcd994-f000-4f6b-87fc-caae08acfaa1    GIF         culture   \n",
       "24572  b9bcd994-f000-4f6b-87fc-caae08acfaa1    GIF         culture   \n",
       "\n",
       "                                                   c_url r_sentiment  r_score  \n",
       "0      https://socialbuzz.cdn.com/content/storage/975...    negative        0  \n",
       "1      https://socialbuzz.cdn.com/content/storage/975...    negative        0  \n",
       "2      https://socialbuzz.cdn.com/content/storage/975...    negative        0  \n",
       "3      https://socialbuzz.cdn.com/content/storage/9f7...    negative        0  \n",
       "4      https://socialbuzz.cdn.com/content/storage/230...    negative        0  \n",
       "...                                                  ...         ...      ...  \n",
       "24568  https://socialbuzz.cdn.com/content/storage/435...    positive       72  \n",
       "24569  https://socialbuzz.cdn.com/content/storage/435...    positive       72  \n",
       "24570  https://socialbuzz.cdn.com/content/storage/4e4...    positive       72  \n",
       "24571  https://socialbuzz.cdn.com/content/storage/4e4...    positive       72  \n",
       "24572  https://socialbuzz.cdn.com/content/storage/4e4...    positive       72  \n",
       "\n",
       "[24573 rows x 10 columns]"
      ]
     },
     "execution_count": 41,
     "metadata": {},
     "output_type": "execute_result"
    }
   ],
   "source": [
    "# Confirm Merge was executed correctly\n",
    "content_reaction"
   ]
  },
  {
   "cell_type": "code",
   "execution_count": 42,
   "metadata": {},
   "outputs": [
    {
     "name": "stdout",
     "output_type": "stream",
     "text": [
      "<class 'pandas.core.frame.DataFrame'>\n",
      "Int64Index: 24573 entries, 0 to 24572\n",
      "Data columns (total 10 columns):\n",
      " #   Column       Non-Null Count  Dtype         \n",
      "---  ------       --------------  -----         \n",
      " 0   content_id   24573 non-null  object        \n",
      " 1   user_id_x    22534 non-null  object        \n",
      " 2   r_type       24573 non-null  object        \n",
      " 3   datetime     24573 non-null  datetime64[ns]\n",
      " 4   user_id_y    24573 non-null  object        \n",
      " 5   c_type       24573 non-null  object        \n",
      " 6   c_category   24573 non-null  object        \n",
      " 7   c_url        24573 non-null  object        \n",
      " 8   r_sentiment  24573 non-null  object        \n",
      " 9   r_score      24573 non-null  int64         \n",
      "dtypes: datetime64[ns](1), int64(1), object(8)\n",
      "memory usage: 2.1+ MB\n"
     ]
    }
   ],
   "source": [
    "content_reaction.info()"
   ]
  },
  {
   "cell_type": "markdown",
   "metadata": {},
   "source": [
    "##### Issue 8 Extraneous Columns"
   ]
  },
  {
   "cell_type": "markdown",
   "metadata": {},
   "source": [
    "user_id columns need to be dropped as it is irrelevant to the problem"
   ]
  },
  {
   "cell_type": "markdown",
   "metadata": {},
   "source": [
    "#### Define\n",
    "Drop extraneous columns"
   ]
  },
  {
   "cell_type": "markdown",
   "metadata": {},
   "source": [
    "#### Code"
   ]
  },
  {
   "cell_type": "code",
   "execution_count": 43,
   "metadata": {},
   "outputs": [],
   "source": [
    "content_reaction.drop(['user_id_x', 'user_id_y','c_url'], axis=1, inplace = True)"
   ]
  },
  {
   "cell_type": "markdown",
   "metadata": {},
   "source": [
    "#### Test"
   ]
  },
  {
   "cell_type": "code",
   "execution_count": 44,
   "metadata": {},
   "outputs": [
    {
     "data": {
      "text/html": [
       "<div>\n",
       "<style scoped>\n",
       "    .dataframe tbody tr th:only-of-type {\n",
       "        vertical-align: middle;\n",
       "    }\n",
       "\n",
       "    .dataframe tbody tr th {\n",
       "        vertical-align: top;\n",
       "    }\n",
       "\n",
       "    .dataframe thead th {\n",
       "        text-align: right;\n",
       "    }\n",
       "</style>\n",
       "<table border=\"1\" class=\"dataframe\">\n",
       "  <thead>\n",
       "    <tr style=\"text-align: right;\">\n",
       "      <th></th>\n",
       "      <th>content_id</th>\n",
       "      <th>r_type</th>\n",
       "      <th>datetime</th>\n",
       "      <th>c_type</th>\n",
       "      <th>c_category</th>\n",
       "      <th>r_sentiment</th>\n",
       "      <th>r_score</th>\n",
       "    </tr>\n",
       "  </thead>\n",
       "  <tbody>\n",
       "    <tr>\n",
       "      <th>0</th>\n",
       "      <td>97522e57-d9ab-4bd6-97bf-c24d952602d2</td>\n",
       "      <td>disgust</td>\n",
       "      <td>2020-11-07 09:43:50</td>\n",
       "      <td>photo</td>\n",
       "      <td>studying</td>\n",
       "      <td>negative</td>\n",
       "      <td>0</td>\n",
       "    </tr>\n",
       "    <tr>\n",
       "      <th>1</th>\n",
       "      <td>97522e57-d9ab-4bd6-97bf-c24d952602d2</td>\n",
       "      <td>disgust</td>\n",
       "      <td>2021-01-06 19:13:01</td>\n",
       "      <td>photo</td>\n",
       "      <td>studying</td>\n",
       "      <td>negative</td>\n",
       "      <td>0</td>\n",
       "    </tr>\n",
       "    <tr>\n",
       "      <th>2</th>\n",
       "      <td>97522e57-d9ab-4bd6-97bf-c24d952602d2</td>\n",
       "      <td>disgust</td>\n",
       "      <td>2021-04-09 02:46:20</td>\n",
       "      <td>photo</td>\n",
       "      <td>studying</td>\n",
       "      <td>negative</td>\n",
       "      <td>0</td>\n",
       "    </tr>\n",
       "    <tr>\n",
       "      <th>3</th>\n",
       "      <td>9f737e0a-3cdd-4d29-9d24-753f4e3be810</td>\n",
       "      <td>disgust</td>\n",
       "      <td>2021-03-28 21:15:26</td>\n",
       "      <td>photo</td>\n",
       "      <td>healthy eating</td>\n",
       "      <td>negative</td>\n",
       "      <td>0</td>\n",
       "    </tr>\n",
       "    <tr>\n",
       "      <th>4</th>\n",
       "      <td>230c4e4d-70c3-461d-b42c-ec09396efb3f</td>\n",
       "      <td>disgust</td>\n",
       "      <td>2020-08-04 05:40:33</td>\n",
       "      <td>photo</td>\n",
       "      <td>healthy eating</td>\n",
       "      <td>negative</td>\n",
       "      <td>0</td>\n",
       "    </tr>\n",
       "  </tbody>\n",
       "</table>\n",
       "</div>"
      ],
      "text/plain": [
       "                             content_id   r_type            datetime c_type  \\\n",
       "0  97522e57-d9ab-4bd6-97bf-c24d952602d2  disgust 2020-11-07 09:43:50  photo   \n",
       "1  97522e57-d9ab-4bd6-97bf-c24d952602d2  disgust 2021-01-06 19:13:01  photo   \n",
       "2  97522e57-d9ab-4bd6-97bf-c24d952602d2  disgust 2021-04-09 02:46:20  photo   \n",
       "3  9f737e0a-3cdd-4d29-9d24-753f4e3be810  disgust 2021-03-28 21:15:26  photo   \n",
       "4  230c4e4d-70c3-461d-b42c-ec09396efb3f  disgust 2020-08-04 05:40:33  photo   \n",
       "\n",
       "       c_category r_sentiment  r_score  \n",
       "0        studying    negative        0  \n",
       "1        studying    negative        0  \n",
       "2        studying    negative        0  \n",
       "3  healthy eating    negative        0  \n",
       "4  healthy eating    negative        0  "
      ]
     },
     "execution_count": 44,
     "metadata": {},
     "output_type": "execute_result"
    }
   ],
   "source": [
    "# Confirm that dropped columns are gone\n",
    "content_reaction.head()"
   ]
  },
  {
   "cell_type": "code",
   "execution_count": 45,
   "metadata": {},
   "outputs": [
    {
     "name": "stdout",
     "output_type": "stream",
     "text": [
      "<class 'pandas.core.frame.DataFrame'>\n",
      "Int64Index: 24573 entries, 0 to 24572\n",
      "Data columns (total 7 columns):\n",
      " #   Column       Non-Null Count  Dtype         \n",
      "---  ------       --------------  -----         \n",
      " 0   content_id   24573 non-null  object        \n",
      " 1   r_type       24573 non-null  object        \n",
      " 2   datetime     24573 non-null  datetime64[ns]\n",
      " 3   c_type       24573 non-null  object        \n",
      " 4   c_category   24573 non-null  object        \n",
      " 5   r_sentiment  24573 non-null  object        \n",
      " 6   r_score      24573 non-null  int64         \n",
      "dtypes: datetime64[ns](1), int64(1), object(5)\n",
      "memory usage: 1.5+ MB\n"
     ]
    }
   ],
   "source": [
    "content_reaction.info()"
   ]
  },
  {
   "cell_type": "markdown",
   "metadata": {},
   "source": [
    "## Data Storing\n",
    "Save clean dataset to the csv file 'twitter_archive_master.csv'"
   ]
  },
  {
   "cell_type": "code",
   "execution_count": 46,
   "metadata": {},
   "outputs": [],
   "source": [
    "content_reaction.to_csv('socialbuzz_content_master.csv',encoding='utf-8')"
   ]
  },
  {
   "cell_type": "markdown",
   "metadata": {},
   "source": [
    "## Exploratory Data Analysis"
   ]
  },
  {
   "cell_type": "code",
   "execution_count": 47,
   "metadata": {},
   "outputs": [
    {
     "data": {
      "text/html": [
       "<div>\n",
       "<style scoped>\n",
       "    .dataframe tbody tr th:only-of-type {\n",
       "        vertical-align: middle;\n",
       "    }\n",
       "\n",
       "    .dataframe tbody tr th {\n",
       "        vertical-align: top;\n",
       "    }\n",
       "\n",
       "    .dataframe thead th {\n",
       "        text-align: right;\n",
       "    }\n",
       "</style>\n",
       "<table border=\"1\" class=\"dataframe\">\n",
       "  <thead>\n",
       "    <tr style=\"text-align: right;\">\n",
       "      <th></th>\n",
       "      <th>content_id</th>\n",
       "      <th>r_type</th>\n",
       "      <th>datetime</th>\n",
       "      <th>c_type</th>\n",
       "      <th>c_category</th>\n",
       "      <th>r_sentiment</th>\n",
       "      <th>r_score</th>\n",
       "    </tr>\n",
       "  </thead>\n",
       "  <tbody>\n",
       "    <tr>\n",
       "      <th>0</th>\n",
       "      <td>97522e57-d9ab-4bd6-97bf-c24d952602d2</td>\n",
       "      <td>disgust</td>\n",
       "      <td>2020-11-07 09:43:50</td>\n",
       "      <td>photo</td>\n",
       "      <td>studying</td>\n",
       "      <td>negative</td>\n",
       "      <td>0</td>\n",
       "    </tr>\n",
       "    <tr>\n",
       "      <th>1</th>\n",
       "      <td>97522e57-d9ab-4bd6-97bf-c24d952602d2</td>\n",
       "      <td>disgust</td>\n",
       "      <td>2021-01-06 19:13:01</td>\n",
       "      <td>photo</td>\n",
       "      <td>studying</td>\n",
       "      <td>negative</td>\n",
       "      <td>0</td>\n",
       "    </tr>\n",
       "    <tr>\n",
       "      <th>2</th>\n",
       "      <td>97522e57-d9ab-4bd6-97bf-c24d952602d2</td>\n",
       "      <td>disgust</td>\n",
       "      <td>2021-04-09 02:46:20</td>\n",
       "      <td>photo</td>\n",
       "      <td>studying</td>\n",
       "      <td>negative</td>\n",
       "      <td>0</td>\n",
       "    </tr>\n",
       "    <tr>\n",
       "      <th>3</th>\n",
       "      <td>9f737e0a-3cdd-4d29-9d24-753f4e3be810</td>\n",
       "      <td>disgust</td>\n",
       "      <td>2021-03-28 21:15:26</td>\n",
       "      <td>photo</td>\n",
       "      <td>healthy eating</td>\n",
       "      <td>negative</td>\n",
       "      <td>0</td>\n",
       "    </tr>\n",
       "    <tr>\n",
       "      <th>4</th>\n",
       "      <td>230c4e4d-70c3-461d-b42c-ec09396efb3f</td>\n",
       "      <td>disgust</td>\n",
       "      <td>2020-08-04 05:40:33</td>\n",
       "      <td>photo</td>\n",
       "      <td>healthy eating</td>\n",
       "      <td>negative</td>\n",
       "      <td>0</td>\n",
       "    </tr>\n",
       "  </tbody>\n",
       "</table>\n",
       "</div>"
      ],
      "text/plain": [
       "                             content_id   r_type             datetime c_type  \\\n",
       "0  97522e57-d9ab-4bd6-97bf-c24d952602d2  disgust  2020-11-07 09:43:50  photo   \n",
       "1  97522e57-d9ab-4bd6-97bf-c24d952602d2  disgust  2021-01-06 19:13:01  photo   \n",
       "2  97522e57-d9ab-4bd6-97bf-c24d952602d2  disgust  2021-04-09 02:46:20  photo   \n",
       "3  9f737e0a-3cdd-4d29-9d24-753f4e3be810  disgust  2021-03-28 21:15:26  photo   \n",
       "4  230c4e4d-70c3-461d-b42c-ec09396efb3f  disgust  2020-08-04 05:40:33  photo   \n",
       "\n",
       "       c_category r_sentiment  r_score  \n",
       "0        studying    negative        0  \n",
       "1        studying    negative        0  \n",
       "2        studying    negative        0  \n",
       "3  healthy eating    negative        0  \n",
       "4  healthy eating    negative        0  "
      ]
     },
     "execution_count": 47,
     "metadata": {},
     "output_type": "execute_result"
    }
   ],
   "source": [
    "socialbuzz = pd.read_csv('socialbuzz_content_master.csv',index_col=0)\n",
    "socialbuzz.head()"
   ]
  },
  {
   "cell_type": "code",
   "execution_count": 48,
   "metadata": {},
   "outputs": [
    {
     "name": "stdout",
     "output_type": "stream",
     "text": [
      "<class 'pandas.core.frame.DataFrame'>\n",
      "Int64Index: 24573 entries, 0 to 24572\n",
      "Data columns (total 7 columns):\n",
      " #   Column       Non-Null Count  Dtype \n",
      "---  ------       --------------  ----- \n",
      " 0   content_id   24573 non-null  object\n",
      " 1   r_type       24573 non-null  object\n",
      " 2   datetime     24573 non-null  object\n",
      " 3   c_type       24573 non-null  object\n",
      " 4   c_category   24573 non-null  object\n",
      " 5   r_sentiment  24573 non-null  object\n",
      " 6   r_score      24573 non-null  int64 \n",
      "dtypes: int64(1), object(6)\n",
      "memory usage: 1.5+ MB\n"
     ]
    }
   ],
   "source": [
    "socialbuzz.info()"
   ]
  },
  {
   "cell_type": "code",
   "execution_count": 49,
   "metadata": {},
   "outputs": [
    {
     "data": {
      "text/html": [
       "<div>\n",
       "<style scoped>\n",
       "    .dataframe tbody tr th:only-of-type {\n",
       "        vertical-align: middle;\n",
       "    }\n",
       "\n",
       "    .dataframe tbody tr th {\n",
       "        vertical-align: top;\n",
       "    }\n",
       "\n",
       "    .dataframe thead th {\n",
       "        text-align: right;\n",
       "    }\n",
       "</style>\n",
       "<table border=\"1\" class=\"dataframe\">\n",
       "  <thead>\n",
       "    <tr style=\"text-align: right;\">\n",
       "      <th></th>\n",
       "      <th>r_score</th>\n",
       "    </tr>\n",
       "  </thead>\n",
       "  <tbody>\n",
       "    <tr>\n",
       "      <th>count</th>\n",
       "      <td>24573.000000</td>\n",
       "    </tr>\n",
       "    <tr>\n",
       "      <th>mean</th>\n",
       "      <td>39.622553</td>\n",
       "    </tr>\n",
       "    <tr>\n",
       "      <th>std</th>\n",
       "      <td>26.043011</td>\n",
       "    </tr>\n",
       "    <tr>\n",
       "      <th>min</th>\n",
       "      <td>0.000000</td>\n",
       "    </tr>\n",
       "    <tr>\n",
       "      <th>25%</th>\n",
       "      <td>15.000000</td>\n",
       "    </tr>\n",
       "    <tr>\n",
       "      <th>50%</th>\n",
       "      <td>35.000000</td>\n",
       "    </tr>\n",
       "    <tr>\n",
       "      <th>75%</th>\n",
       "      <td>65.000000</td>\n",
       "    </tr>\n",
       "    <tr>\n",
       "      <th>max</th>\n",
       "      <td>75.000000</td>\n",
       "    </tr>\n",
       "  </tbody>\n",
       "</table>\n",
       "</div>"
      ],
      "text/plain": [
       "            r_score\n",
       "count  24573.000000\n",
       "mean      39.622553\n",
       "std       26.043011\n",
       "min        0.000000\n",
       "25%       15.000000\n",
       "50%       35.000000\n",
       "75%       65.000000\n",
       "max       75.000000"
      ]
     },
     "execution_count": 49,
     "metadata": {},
     "output_type": "execute_result"
    }
   ],
   "source": [
    "socialbuzz.describe()"
   ]
  },
  {
   "cell_type": "code",
   "execution_count": 50,
   "metadata": {},
   "outputs": [
    {
     "data": {
      "text/html": [
       "<div>\n",
       "<style scoped>\n",
       "    .dataframe tbody tr th:only-of-type {\n",
       "        vertical-align: middle;\n",
       "    }\n",
       "\n",
       "    .dataframe tbody tr th {\n",
       "        vertical-align: top;\n",
       "    }\n",
       "\n",
       "    .dataframe thead th {\n",
       "        text-align: right;\n",
       "    }\n",
       "</style>\n",
       "<table border=\"1\" class=\"dataframe\">\n",
       "  <thead>\n",
       "    <tr style=\"text-align: right;\">\n",
       "      <th></th>\n",
       "      <th>r_score</th>\n",
       "    </tr>\n",
       "  </thead>\n",
       "  <tbody>\n",
       "    <tr>\n",
       "      <th>count</th>\n",
       "      <td>24573.000000</td>\n",
       "    </tr>\n",
       "    <tr>\n",
       "      <th>mean</th>\n",
       "      <td>39.622553</td>\n",
       "    </tr>\n",
       "    <tr>\n",
       "      <th>std</th>\n",
       "      <td>26.043011</td>\n",
       "    </tr>\n",
       "    <tr>\n",
       "      <th>min</th>\n",
       "      <td>0.000000</td>\n",
       "    </tr>\n",
       "    <tr>\n",
       "      <th>25%</th>\n",
       "      <td>15.000000</td>\n",
       "    </tr>\n",
       "    <tr>\n",
       "      <th>50%</th>\n",
       "      <td>35.000000</td>\n",
       "    </tr>\n",
       "    <tr>\n",
       "      <th>75%</th>\n",
       "      <td>65.000000</td>\n",
       "    </tr>\n",
       "    <tr>\n",
       "      <th>max</th>\n",
       "      <td>75.000000</td>\n",
       "    </tr>\n",
       "  </tbody>\n",
       "</table>\n",
       "</div>"
      ],
      "text/plain": [
       "            r_score\n",
       "count  24573.000000\n",
       "mean      39.622553\n",
       "std       26.043011\n",
       "min        0.000000\n",
       "25%       15.000000\n",
       "50%       35.000000\n",
       "75%       65.000000\n",
       "max       75.000000"
      ]
     },
     "execution_count": 50,
     "metadata": {},
     "output_type": "execute_result"
    }
   ],
   "source": [
    "socialbuzz.describe()"
   ]
  },
  {
   "cell_type": "code",
   "execution_count": 51,
   "metadata": {},
   "outputs": [
    {
     "data": {
      "text/html": [
       "<div>\n",
       "<style scoped>\n",
       "    .dataframe tbody tr th:only-of-type {\n",
       "        vertical-align: middle;\n",
       "    }\n",
       "\n",
       "    .dataframe tbody tr th {\n",
       "        vertical-align: top;\n",
       "    }\n",
       "\n",
       "    .dataframe thead th {\n",
       "        text-align: right;\n",
       "    }\n",
       "</style>\n",
       "<table border=\"1\" class=\"dataframe\">\n",
       "  <thead>\n",
       "    <tr style=\"text-align: right;\">\n",
       "      <th></th>\n",
       "      <th>content_id</th>\n",
       "      <th>r_type</th>\n",
       "      <th>datetime</th>\n",
       "      <th>c_type</th>\n",
       "      <th>c_category</th>\n",
       "      <th>r_sentiment</th>\n",
       "    </tr>\n",
       "  </thead>\n",
       "  <tbody>\n",
       "    <tr>\n",
       "      <th>count</th>\n",
       "      <td>24573</td>\n",
       "      <td>24573</td>\n",
       "      <td>24573</td>\n",
       "      <td>24573</td>\n",
       "      <td>24573</td>\n",
       "      <td>24573</td>\n",
       "    </tr>\n",
       "    <tr>\n",
       "      <th>unique</th>\n",
       "      <td>962</td>\n",
       "      <td>16</td>\n",
       "      <td>24562</td>\n",
       "      <td>4</td>\n",
       "      <td>16</td>\n",
       "      <td>3</td>\n",
       "    </tr>\n",
       "    <tr>\n",
       "      <th>top</th>\n",
       "      <td>d90a34f1-60ed-4a79-b7bf-fd22efa12e4c</td>\n",
       "      <td>heart</td>\n",
       "      <td>2020-07-23 09:21:02</td>\n",
       "      <td>photo</td>\n",
       "      <td>animals</td>\n",
       "      <td>positive</td>\n",
       "    </tr>\n",
       "    <tr>\n",
       "      <th>freq</th>\n",
       "      <td>48</td>\n",
       "      <td>1622</td>\n",
       "      <td>2</td>\n",
       "      <td>6589</td>\n",
       "      <td>1897</td>\n",
       "      <td>13807</td>\n",
       "    </tr>\n",
       "  </tbody>\n",
       "</table>\n",
       "</div>"
      ],
      "text/plain": [
       "                                  content_id r_type             datetime  \\\n",
       "count                                  24573  24573                24573   \n",
       "unique                                   962     16                24562   \n",
       "top     d90a34f1-60ed-4a79-b7bf-fd22efa12e4c  heart  2020-07-23 09:21:02   \n",
       "freq                                      48   1622                    2   \n",
       "\n",
       "       c_type c_category r_sentiment  \n",
       "count   24573      24573       24573  \n",
       "unique      4         16           3  \n",
       "top     photo    animals    positive  \n",
       "freq     6589       1897       13807  "
      ]
     },
     "execution_count": 51,
     "metadata": {},
     "output_type": "execute_result"
    }
   ],
   "source": [
    "socialbuzz.describe(include=['O'])"
   ]
  },
  {
   "cell_type": "code",
   "execution_count": 52,
   "metadata": {},
   "outputs": [
    {
     "data": {
      "text/plain": [
       "c_category       r_score\n",
       "animals          70         247\n",
       "culture          70         235\n",
       "science          70         229\n",
       "food             70         229\n",
       "technology       70         227\n",
       "                           ... \n",
       "veganism         45          68\n",
       "public speaking  35          65\n",
       "veganism         0           65\n",
       "dogs             12          62\n",
       "public speaking  5           61\n",
       "Length: 240, dtype: int64"
      ]
     },
     "execution_count": 52,
     "metadata": {},
     "output_type": "execute_result"
    }
   ],
   "source": [
    "socialbuzz.value_counts(['c_category','r_score'])"
   ]
  },
  {
   "cell_type": "code",
   "execution_count": 53,
   "metadata": {},
   "outputs": [
    {
     "data": {
      "text/plain": [
       "c_category       r_type \n",
       "animals          scared     132\n",
       "food             hate       130\n",
       "technology       adore      129\n",
       "animals          peeking    129\n",
       "                 hate       128\n",
       "                           ... \n",
       "veganism         disgust     65\n",
       "public speaking  peeking     65\n",
       "                 cherish     65\n",
       "dogs             worried     62\n",
       "public speaking  hate        61\n",
       "Length: 256, dtype: int64"
      ]
     },
     "execution_count": 53,
     "metadata": {},
     "output_type": "execute_result"
    }
   ],
   "source": [
    "socialbuzz.value_counts(['c_category','r_type'])"
   ]
  },
  {
   "cell_type": "code",
   "execution_count": 54,
   "metadata": {},
   "outputs": [
    {
     "data": {
      "text/plain": [
       "r_type       r_score\n",
       "heart        60         1622\n",
       "scared       15         1572\n",
       "peeking      35         1559\n",
       "hate         5          1552\n",
       "interested   30         1549\n",
       "adore        72         1548\n",
       "dislike      10         1548\n",
       "want         70         1539\n",
       "love         65         1534\n",
       "disgust      0          1526\n",
       "like         50         1520\n",
       "super love   75         1519\n",
       "indifferent  20         1512\n",
       "cherish      70         1501\n",
       "worried      12         1497\n",
       "intrigued    45         1475\n",
       "dtype: int64"
      ]
     },
     "execution_count": 54,
     "metadata": {},
     "output_type": "execute_result"
    }
   ],
   "source": [
    "socialbuzz.value_counts(['r_type','r_score'])"
   ]
  },
  {
   "cell_type": "code",
   "execution_count": 55,
   "metadata": {},
   "outputs": [
    {
     "data": {
      "text/plain": [
       "24573"
      ]
     },
     "execution_count": 55,
     "metadata": {},
     "output_type": "execute_result"
    }
   ],
   "source": [
    "len(socialbuzz.c_category)"
   ]
  },
  {
   "cell_type": "code",
   "execution_count": 56,
   "metadata": {},
   "outputs": [
    {
     "data": {
      "text/plain": [
       "70    3040\n",
       "60    1622\n",
       "15    1572\n",
       "35    1559\n",
       "5     1552\n",
       "30    1549\n",
       "10    1548\n",
       "72    1548\n",
       "65    1534\n",
       "0     1526\n",
       "50    1520\n",
       "75    1519\n",
       "20    1512\n",
       "12    1497\n",
       "45    1475\n",
       "Name: r_score, dtype: int64"
      ]
     },
     "execution_count": 56,
     "metadata": {},
     "output_type": "execute_result"
    }
   ],
   "source": [
    "socialbuzz.r_score.value_counts()"
   ]
  },
  {
   "cell_type": "markdown",
   "metadata": {},
   "source": [
    "### Distribution of content category"
   ]
  },
  {
   "cell_type": "markdown",
   "metadata": {},
   "source": [
    "##### Question: How many unique categories are there?"
   ]
  },
  {
   "cell_type": "code",
   "execution_count": 57,
   "metadata": {},
   "outputs": [
    {
     "data": {
      "text/plain": [
       "16"
      ]
     },
     "execution_count": 57,
     "metadata": {},
     "output_type": "execute_result"
    }
   ],
   "source": [
    "socialbuzz.c_category.nunique()"
   ]
  },
  {
   "cell_type": "code",
   "execution_count": 58,
   "metadata": {},
   "outputs": [
    {
     "data": {
      "image/png": "[encoded data removed]",
      "text/plain": [
       "<Figure size 576x288 with 1 Axes>"
      ]
     },
     "metadata": {
      "needs_background": "light"
     },
     "output_type": "display_data"
    }
   ],
   "source": [
    "socialbuzz.c_category.value_counts().plot.bar(figsize=(8,4), title='Distribution of Content category')\n",
    "plt.xlabel('c_category',fontsize=10)\n",
    "plt.ylabel('Number of Content Category', fontsize=10);"
   ]
  },
  {
   "cell_type": "code",
   "execution_count": 59,
   "metadata": {},
   "outputs": [
    {
     "data": {
      "text/plain": [
       "animals            1897\n",
       "science            1796\n",
       "healthy eating     1717\n",
       "food               1699\n",
       "technology         1698\n",
       "culture            1676\n",
       "cooking            1664\n",
       "travel             1647\n",
       "soccer             1457\n",
       "education          1433\n",
       "fitness            1395\n",
       "studying           1363\n",
       "dogs               1338\n",
       "tennis             1328\n",
       "veganism           1248\n",
       "public speaking    1217\n",
       "Name: c_category, dtype: int64"
      ]
     },
     "execution_count": 59,
     "metadata": {},
     "output_type": "execute_result"
    }
   ],
   "source": [
    "socialbuzz.c_category.value_counts()"
   ]
  },
  {
   "cell_type": "markdown",
   "metadata": {},
   "source": [
    "### Distribution of reaction score"
   ]
  },
  {
   "cell_type": "markdown",
   "metadata": {},
   "source": [
    "##### Question: How many unique reactions are there?"
   ]
  },
  {
   "cell_type": "code",
   "execution_count": 60,
   "metadata": {},
   "outputs": [
    {
     "data": {
      "text/plain": [
       "15"
      ]
     },
     "execution_count": 60,
     "metadata": {},
     "output_type": "execute_result"
    }
   ],
   "source": [
    "socialbuzz.r_score.nunique()"
   ]
  },
  {
   "cell_type": "code",
   "execution_count": 61,
   "metadata": {},
   "outputs": [
    {
     "data": {
      "image/png": "[encoded data removed]",
      "text/plain": [
       "<Figure size 576x288 with 1 Axes>"
      ]
     },
     "metadata": {
      "needs_background": "light"
     },
     "output_type": "display_data"
    }
   ],
   "source": [
    "socialbuzz.r_score.value_counts().plot.bar(figsize=(8,4), title='Distribution of reaction score')\n",
    "plt.xlabel('r_score',fontsize=10)\n",
    "plt.ylabel('Number of reaction score', fontsize=10);"
   ]
  },
  {
   "cell_type": "code",
   "execution_count": 62,
   "metadata": {},
   "outputs": [
    {
     "data": {
      "text/plain": [
       "70    3040\n",
       "60    1622\n",
       "15    1572\n",
       "35    1559\n",
       "5     1552\n",
       "30    1549\n",
       "10    1548\n",
       "72    1548\n",
       "65    1534\n",
       "0     1526\n",
       "50    1520\n",
       "75    1519\n",
       "20    1512\n",
       "12    1497\n",
       "45    1475\n",
       "Name: r_score, dtype: int64"
      ]
     },
     "execution_count": 62,
     "metadata": {},
     "output_type": "execute_result"
    }
   ],
   "source": [
    "socialbuzz.r_score.value_counts()"
   ]
  },
  {
   "cell_type": "code",
   "execution_count": 63,
   "metadata": {},
   "outputs": [
    {
     "data": {
      "text/plain": [
       "count    24573.000000\n",
       "mean        39.622553\n",
       "std         26.043011\n",
       "min          0.000000\n",
       "25%         15.000000\n",
       "50%         35.000000\n",
       "75%         65.000000\n",
       "max         75.000000\n",
       "Name: r_score, dtype: float64"
      ]
     },
     "execution_count": 63,
     "metadata": {},
     "output_type": "execute_result"
    }
   ],
   "source": [
    "socialbuzz.r_score.describe()"
   ]
  },
  {
   "cell_type": "markdown",
   "metadata": {},
   "source": [
    "### Distribution of reaction types"
   ]
  },
  {
   "cell_type": "code",
   "execution_count": 64,
   "metadata": {},
   "outputs": [
    {
     "data": {
      "text/plain": [
       "16"
      ]
     },
     "execution_count": 64,
     "metadata": {},
     "output_type": "execute_result"
    }
   ],
   "source": [
    "socialbuzz.r_type.nunique()"
   ]
  },
  {
   "cell_type": "code",
   "execution_count": 65,
   "metadata": {},
   "outputs": [
    {
     "data": {
      "text/plain": [
       "heart          1622\n",
       "scared         1572\n",
       "peeking        1559\n",
       "hate           1552\n",
       "interested     1549\n",
       "dislike        1548\n",
       "adore          1548\n",
       "want           1539\n",
       "love           1534\n",
       "disgust        1526\n",
       "like           1520\n",
       "super love     1519\n",
       "indifferent    1512\n",
       "cherish        1501\n",
       "worried        1497\n",
       "intrigued      1475\n",
       "Name: r_type, dtype: int64"
      ]
     },
     "execution_count": 65,
     "metadata": {},
     "output_type": "execute_result"
    }
   ],
   "source": [
    "socialbuzz.r_type.value_counts()"
   ]
  },
  {
   "cell_type": "code",
   "execution_count": 66,
   "metadata": {},
   "outputs": [
    {
     "data": {
      "image/png": "[encoded data removed]",
      "text/plain": [
       "<Figure size 720x288 with 1 Axes>"
      ]
     },
     "metadata": {
      "needs_background": "light"
     },
     "output_type": "display_data"
    }
   ],
   "source": [
    "socialbuzz.r_type.value_counts().plot.bar(figsize=(10,4), title='Distribution of Reaction Type')\n",
    "plt.xlabel('r_type',fontsize=10)\n",
    "plt.ylabel('Number of Reaction Type', fontsize=10)\n",
    "plt.xticks(rotation=45);"
   ]
  },
  {
   "cell_type": "markdown",
   "metadata": {},
   "source": [
    "### Distribution of post month"
   ]
  },
  {
   "cell_type": "code",
   "execution_count": 67,
   "metadata": {},
   "outputs": [
    {
     "name": "stdout",
     "output_type": "stream",
     "text": [
      "<class 'pandas.core.frame.DataFrame'>\n",
      "Int64Index: 24573 entries, 0 to 24572\n",
      "Data columns (total 7 columns):\n",
      " #   Column       Non-Null Count  Dtype \n",
      "---  ------       --------------  ----- \n",
      " 0   content_id   24573 non-null  object\n",
      " 1   r_type       24573 non-null  object\n",
      " 2   datetime     24573 non-null  object\n",
      " 3   c_type       24573 non-null  object\n",
      " 4   c_category   24573 non-null  object\n",
      " 5   r_sentiment  24573 non-null  object\n",
      " 6   r_score      24573 non-null  int64 \n",
      "dtypes: int64(1), object(6)\n",
      "memory usage: 1.5+ MB\n"
     ]
    }
   ],
   "source": [
    "socialbuzz.info()"
   ]
  },
  {
   "cell_type": "code",
   "execution_count": 68,
   "metadata": {},
   "outputs": [
    {
     "data": {
      "text/plain": [
       "24562"
      ]
     },
     "execution_count": 68,
     "metadata": {},
     "output_type": "execute_result"
    }
   ],
   "source": [
    "socialbuzz.datetime.nunique()"
   ]
  },
  {
   "cell_type": "code",
   "execution_count": 69,
   "metadata": {},
   "outputs": [],
   "source": [
    "socialbuzz['datetime'] = pd.to_datetime(socialbuzz['datetime'])"
   ]
  },
  {
   "cell_type": "code",
   "execution_count": 70,
   "metadata": {},
   "outputs": [],
   "source": [
    "# extract month from datetime variable\n",
    "\n",
    "socialbuzz['r_monthname']=socialbuzz['datetime'].dt.month_name()  "
   ]
  },
  {
   "cell_type": "code",
   "execution_count": 71,
   "metadata": {},
   "outputs": [
    {
     "name": "stdout",
     "output_type": "stream",
     "text": [
      "<class 'pandas.core.frame.DataFrame'>\n",
      "Int64Index: 24573 entries, 0 to 24572\n",
      "Data columns (total 8 columns):\n",
      " #   Column       Non-Null Count  Dtype         \n",
      "---  ------       --------------  -----         \n",
      " 0   content_id   24573 non-null  object        \n",
      " 1   r_type       24573 non-null  object        \n",
      " 2   datetime     24573 non-null  datetime64[ns]\n",
      " 3   c_type       24573 non-null  object        \n",
      " 4   c_category   24573 non-null  object        \n",
      " 5   r_sentiment  24573 non-null  object        \n",
      " 6   r_score      24573 non-null  int64         \n",
      " 7   r_monthname  24573 non-null  object        \n",
      "dtypes: datetime64[ns](1), int64(1), object(6)\n",
      "memory usage: 1.7+ MB\n"
     ]
    }
   ],
   "source": [
    "socialbuzz.info()"
   ]
  },
  {
   "cell_type": "code",
   "execution_count": 73,
   "metadata": {},
   "outputs": [],
   "source": [
    "# converting reaction month from a plain object type into an ordered categorical type.\n",
    "\n",
    "months=['January','February','March','April','May','June','July','August','September','October','November','December']\n",
    "month=pd.api.types.CategoricalDtype(ordered=True,categories=months)\n",
    "socialbuzz['r_monthname']=socialbuzz['r_monthname'].astype(month);\n"
   ]
  },
  {
   "cell_type": "code",
   "execution_count": 74,
   "metadata": {},
   "outputs": [
    {
     "name": "stdout",
     "output_type": "stream",
     "text": [
      "I've used pandas .astype() to convert the r_monthname variable  from a plain object type into an ordered categorical type. My bar chart shows the most posts happened in May and least in February\n"
     ]
    },
    {
     "data": {
      "image/png": "[encoded data removed]",
      "text/plain": [
       "<Figure size 720x288 with 1 Axes>"
      ]
     },
     "metadata": {
      "needs_background": "light"
     },
     "output_type": "display_data"
    }
   ],
   "source": [
    "def monthname():\n",
    "    sol_string = [\"I've used pandas .astype() to convert the r_monthname variable \",\n",
    "                  \"from a plain object type into an ordered categorical type. My bar chart shows the most posts\", \n",
    "                  \"happened in May and least in February\"]\n",
    "    print((\" \").join(sol_string))\n",
    "    fig, ax=plt.subplots(figsize=[10,4])\n",
    "    \n",
    "    base_color = sb.color_palette()[0]\n",
    "    sb.countplot(data =socialbuzz, x = 'r_monthname', color = base_color)\n",
    "    plt.xticks(rotation=45)\n",
    "    ax.set(ylabel='Number of posts', xlabel ='months')\n",
    "    plt.title('Distribution of post reaction month')\n",
    "    plt.show()\n",
    "    \n",
    "monthname()"
   ]
  },
  {
   "cell_type": "markdown",
   "metadata": {},
   "source": [
    "#### Distribution of content type"
   ]
  },
  {
   "cell_type": "code",
   "execution_count": 75,
   "metadata": {},
   "outputs": [
    {
     "name": "stdout",
     "output_type": "stream",
     "text": [
      "I've used matplotlib's donot plot to depict the relative frequency of the content type of the . My donot shows photo content as top, closely followed by video, gif and audio\n"
     ]
    },
    {
     "data": {
      "image/png": "[encoded data removed]",
      "text/plain": [
       "<Figure size 576x360 with 1 Axes>"
      ]
     },
     "metadata": {},
     "output_type": "display_data"
    }
   ],
   "source": [
    "# plotting m_gender using a donot plot\n",
    "def contenttype():\n",
    "    sol_string = [\"I've used matplotlib's donot plot to depict the relative frequency of the content type of the .\",\n",
    "                      \"My donot shows photo content as top, closely followed by video, gif and audio\"]\n",
    "                      \n",
    "    print((\" \").join(sol_string))\n",
    "    plt.figure(figsize = [8,5]) \n",
    "    sorted_counts = socialbuzz['c_type'].value_counts()\n",
    "    plt.pie(sorted_counts, labels = sorted_counts.index, startangle = 90,autopct='%1.1f%%',counterclock = False, wedgeprops = {'width' : 0.4});\n",
    "    plt.axis('square');\n",
    "    plt.title('Donot plot representing the distribution of content type')\n",
    "    \n",
    "contenttype()"
   ]
  },
  {
   "cell_type": "markdown",
   "metadata": {},
   "source": [
    "#### Distribution of reaction sentiment"
   ]
  },
  {
   "cell_type": "code",
   "execution_count": 76,
   "metadata": {},
   "outputs": [
    {
     "name": "stdout",
     "output_type": "stream",
     "text": [
      "I've used matplotlib to plot a pie chart to depict the relative frequency between the 3 reaction sentiment. My pie chart shows that positive sentiments are more than negative and neutral\n"
     ]
    },
    {
     "data": {
      "image/png": "[encoded data removed]",
      "text/plain": [
       "<Figure size 576x360 with 1 Axes>"
      ]
     },
     "metadata": {},
     "output_type": "display_data"
    }
   ],
   "source": [
    "# plotting m_gender using a donot plot\n",
    "def reactionsentiment():\n",
    "    sol_string = [\"I've used matplotlib to plot a pie chart to depict the relative frequency between the 3 reaction sentiment.\",\n",
    "                      \"My pie chart shows that positive sentiments are more than negative and neutral\"]\n",
    "                      \n",
    "    print((\" \").join(sol_string))\n",
    "    plt.figure(figsize=[8,5])\n",
    "    sorted_counts = socialbuzz['r_sentiment'].value_counts()\n",
    "    plt.pie(sorted_counts, labels = sorted_counts.index, startangle = 90, autopct='%1.1f%%', counterclock = False);\n",
    "    plt.axis('square')\n",
    "    plt.title('Pie Chart representing the distribution of reaction sentiment ')\n",
    "    \n",
    "reactionsentiment()"
   ]
  },
  {
   "attachments": {},
   "cell_type": "markdown",
   "metadata": {},
   "source": [
    "## Insights\n",
    "> By performing an analysis of your data we saw that you had a total of 16 unique categories of posts across your sample dataset. This includes themes such as Animals, Science and food. \n",
    ">We also found out that there were 1897 reactions from just the animal category. People clearly love to post about animals! It makes sense that Users engaged more with the animals post using a heart\n",
    "\n",
    ">And also the most posts happened in January; 17th January precisely.This aligns with seasonal trends of social media users feeling the need to reconnect with people more after calendar events like Christmas\n",
    "\n",
    ">Back to the main question... what were the top 5 most popular categories of posts?\n",
    "\n"
   ]
  },
  {
   "cell_type": "code",
   "execution_count": 80,
   "metadata": {},
   "outputs": [
    {
     "data": {
      "image/png": "[encoded data removed]",
      "text/plain": [
       "<Figure size 576x288 with 1 Axes>"
      ]
     },
     "metadata": {},
     "output_type": "display_data"
    }
   ],
   "source": [
    "sb.set(rc={'figure.figsize':(8,4)})\n",
    "\n",
    "top5categories = socialbuzz.groupby('c_category', as_index=False)['r_score'].sum().sort_values(by='r_score', ascending=False).head(5)\n",
    "sb.barplot(data=top5categories, x='c_category', y = 'r_score', dodge=False);\n",
    "plt.title('Bar plot of Top 5 Content Categories', fontsize=16);"
   ]
  },
  {
   "cell_type": "markdown",
   "metadata": {},
   "source": [
    "From our analysis, it can be seen from the bar chart that the top 5 most popular categories of posts were animals, science, healthy eating, technology and food in descending order. Animals had an aggregate popularity score of around 74,965. \n",
    "It is very interesting to see both food and healthy eating within the top 5, it really shows that food is a highly engaging content category. Healthy eating ranks slightly higher than food, so perhaps your user base may be skewed towards healthy eaters and health-conscious people. \n",
    "Finally, its also interesting to see science and technology too. This may suggest that people enjoy consuming factual content and snippets of content that they can learn something from"
   ]
  },
  {
   "cell_type": "code",
   "execution_count": 81,
   "metadata": {},
   "outputs": [
    {
     "data": {
      "image/png": "[encoded data removed]",
      "text/plain": [
       "<Figure size 576x288 with 1 Axes>"
      ]
     },
     "metadata": {},
     "output_type": "display_data"
    }
   ],
   "source": [
    "sb.set(rc={'figure.figsize':(8,4)})\n",
    "top5categories = socialbuzz.groupby('c_category', as_index=False)['r_score'].sum().sort_values(by='r_score', ascending=False).head(5)\n",
    "plt.pie(data=top5categories, x='r_score',labels = 'c_category', startangle = 90, autopct='%1.1f%%', counterclock = False);\n",
    "plt.axis('square')\n",
    "plt.title('Pie plot showing relative frequency of Top 5 Content Categories', fontsize=16);"
   ]
  },
  {
   "cell_type": "markdown",
   "metadata": {},
   "source": [
    "Furthermore, you can see from this pie chart the percentage split of popularity between the top 5 categories. There is not much difference between the share of each category, however, the difference between the 1st most popular, animals and the 2nd most popular, science, is the largest gap equal to 1.1%. In business terms, this could suggest that the most popular category, animals, is tailing away from the rest of the categories and may continue to get more and more popular. To avoid an issue where one content category consumes the entire platform, it will be important for you to ensure that any algorithms used to govern the content on the platform gives a fair balance to the content categories.\n"
   ]
  },
  {
   "attachments": {},
   "cell_type": "markdown",
   "metadata": {},
   "source": [
    "## Summary\n",
    "In Summary, We tackled this task and found the top 5 most popular categories as asked, but we also went a step further. \n",
    "We discovered that animals and science are the two most popular categories, suggesting that users like \"real-life\" and \"factual\" content \n",
    "We also discovered that contents on food were amongst the most popular with healthy eating as the leading food category. This could be a pointer to the types of users of your platform, you could use this insight to boost engagement even further. For instance, you could run a campaign with content focused on food category or work with healthy eating brands \n",
    "As much as this analysis was insightful, I’ll recommend that you let us take it to the next stage - we have the expertise to help you realize these kinds of insights in production across your organization and we’d love to help you with this.\n"
   ]
  },
  {
   "cell_type": "markdown",
   "metadata": {},
   "source": [
    "THANK YOU!!!"
   ]
  }
 ],
 "metadata": {
  "kernelspec": {
   "display_name": "Python 3 (ipykernel)",
   "language": "python",
   "name": "python3"
  },
  "language_info": {
   "codemirror_mode": {
    "name": "ipython",
    "version": 3
   },
   "file_extension": ".py",
   "mimetype": "text/x-python",
   "name": "python",
   "nbconvert_exporter": "python",
   "pygments_lexer": "ipython3",
   "version": "3.9.12"
  }
 },
 "nbformat": 4,
 "nbformat_minor": 2
}
